{
 "cells": [
  {
   "cell_type": "code",
   "execution_count": 1,
   "id": "3335890b-bfd0-4e4e-8e48-ab0ec9d8690a",
   "metadata": {
    "tags": []
   },
   "outputs": [],
   "source": [
    "import requests\n",
    "import pandas as pd\n",
    "import time\n",
    "import key"
   ]
  },
  {
   "cell_type": "markdown",
   "id": "fde207a9-9fcf-45cb-8f81-ad31041de955",
   "metadata": {},
   "source": [
    "# Get anime list"
   ]
  },
  {
   "cell_type": "code",
   "execution_count": 2,
   "id": "dd6dc4a2-daa0-4b50-b2ed-7fc20a0a1853",
   "metadata": {
    "tags": []
   },
   "outputs": [],
   "source": [
    "# api key for the header\n",
    "header = {'X-MAL-CLIENT-ID':key.api_key}"
   ]
  },
  {
   "cell_type": "code",
   "execution_count": 3,
   "id": "b634a57b-a0dd-48f8-a4ae-4c90fa7078ed",
   "metadata": {
    "tags": []
   },
   "outputs": [
    {
     "data": {
      "text/plain": [
       "{'data': [{'node': {'id': 51535,\n",
       "    'title': 'Shingeki no Kyojin: The Final Season - Kanketsu-hen',\n",
       "    'main_picture': {'medium': 'https://api-cdn.myanimelist.net/images/anime/1279/131078.jpg',\n",
       "     'large': 'https://api-cdn.myanimelist.net/images/anime/1279/131078l.jpg'}},\n",
       "   'ranking': {'rank': 1}},\n",
       "  {'node': {'id': 5114,\n",
       "    'title': 'Fullmetal Alchemist: Brotherhood',\n",
       "    'main_picture': {'medium': 'https://api-cdn.myanimelist.net/images/anime/1208/94745.jpg',\n",
       "     'large': 'https://api-cdn.myanimelist.net/images/anime/1208/94745l.jpg'}},\n",
       "   'ranking': {'rank': 2}}],\n",
       " 'paging': {'next': 'https://api.myanimelist.net/v2/anime/ranking?offset=2&ranking_type=all&limit=2'}}"
      ]
     },
     "execution_count": 3,
     "metadata": {},
     "output_type": "execute_result"
    }
   ],
   "source": [
    "# example\n",
    "anime_response = requests.get(\"https://api.myanimelist.net/v2/anime/ranking?ranking_type=all&limit=2\",  headers=header)\n",
    "anime_response_json = anime_response.json()\n",
    "anime_response_json"
   ]
  },
  {
   "cell_type": "code",
   "execution_count": 4,
   "id": "4b1a686d-f5f5-4d48-9af5-f7b9fea5983f",
   "metadata": {
    "tags": []
   },
   "outputs": [
    {
     "name": "stdout",
     "output_type": "stream",
     "text": [
      "idx_list length: 10000\n",
      "title_list length: 10000\n",
      "pic_list length: 10000\n"
     ]
    }
   ],
   "source": [
    "x = 0\n",
    "idx_list = []\n",
    "title_list = []\n",
    "pic_list = []\n",
    "api_url = \"https://api.myanimelist.net/v2/anime/ranking?ranking_type=all&limit=500\"\n",
    "\n",
    "while x < 10000:\n",
    "    anime_response_json = requests.get(api_url, headers=header).json()\n",
    "    for i in range(500):\n",
    "        idx_list.append(anime_response_json['data'][i]['node']['id'])\n",
    "        title_list.append(anime_response_json['data'][i]['node']['title'])\n",
    "        pic_list.append(anime_response_json['data'][i]['node']['main_picture']['medium'])\n",
    "    api_url = anime_response_json['paging']['next']\n",
    "    x += 500\n",
    "\n",
    "print('idx_list length:', len(idx_list))\n",
    "print('title_list length:', len(title_list))\n",
    "print('pic_list length:', len(pic_list))"
   ]
  },
  {
   "cell_type": "code",
   "execution_count": 5,
   "id": "55054d95-f98b-4f52-9f39-a77db59de346",
   "metadata": {
    "tags": []
   },
   "outputs": [
    {
     "data": {
      "text/html": [
       "<div>\n",
       "<style scoped>\n",
       "    .dataframe tbody tr th:only-of-type {\n",
       "        vertical-align: middle;\n",
       "    }\n",
       "\n",
       "    .dataframe tbody tr th {\n",
       "        vertical-align: top;\n",
       "    }\n",
       "\n",
       "    .dataframe thead th {\n",
       "        text-align: right;\n",
       "    }\n",
       "</style>\n",
       "<table border=\"1\" class=\"dataframe\">\n",
       "  <thead>\n",
       "    <tr style=\"text-align: right;\">\n",
       "      <th></th>\n",
       "      <th>id</th>\n",
       "      <th>title</th>\n",
       "      <th>picture_url</th>\n",
       "    </tr>\n",
       "  </thead>\n",
       "  <tbody>\n",
       "    <tr>\n",
       "      <th>0</th>\n",
       "      <td>51535</td>\n",
       "      <td>Shingeki no Kyojin: The Final Season - Kankets...</td>\n",
       "      <td>https://api-cdn.myanimelist.net/images/anime/1...</td>\n",
       "    </tr>\n",
       "    <tr>\n",
       "      <th>1</th>\n",
       "      <td>5114</td>\n",
       "      <td>Fullmetal Alchemist: Brotherhood</td>\n",
       "      <td>https://api-cdn.myanimelist.net/images/anime/1...</td>\n",
       "    </tr>\n",
       "    <tr>\n",
       "      <th>2</th>\n",
       "      <td>41467</td>\n",
       "      <td>Bleach: Sennen Kessen-hen</td>\n",
       "      <td>https://api-cdn.myanimelist.net/images/anime/1...</td>\n",
       "    </tr>\n",
       "    <tr>\n",
       "      <th>3</th>\n",
       "      <td>9253</td>\n",
       "      <td>Steins;Gate</td>\n",
       "      <td>https://api-cdn.myanimelist.net/images/anime/1...</td>\n",
       "    </tr>\n",
       "    <tr>\n",
       "      <th>4</th>\n",
       "      <td>28977</td>\n",
       "      <td>Gintama°</td>\n",
       "      <td>https://api-cdn.myanimelist.net/images/anime/3...</td>\n",
       "    </tr>\n",
       "  </tbody>\n",
       "</table>\n",
       "</div>"
      ],
      "text/plain": [
       "      id                                              title  \\\n",
       "0  51535  Shingeki no Kyojin: The Final Season - Kankets...   \n",
       "1   5114                   Fullmetal Alchemist: Brotherhood   \n",
       "2  41467                          Bleach: Sennen Kessen-hen   \n",
       "3   9253                                        Steins;Gate   \n",
       "4  28977                                           Gintama°   \n",
       "\n",
       "                                         picture_url  \n",
       "0  https://api-cdn.myanimelist.net/images/anime/1...  \n",
       "1  https://api-cdn.myanimelist.net/images/anime/1...  \n",
       "2  https://api-cdn.myanimelist.net/images/anime/1...  \n",
       "3  https://api-cdn.myanimelist.net/images/anime/1...  \n",
       "4  https://api-cdn.myanimelist.net/images/anime/3...  "
      ]
     },
     "execution_count": 5,
     "metadata": {},
     "output_type": "execute_result"
    }
   ],
   "source": [
    "anime_df = pd.DataFrame(data={'id':idx_list, 'title':title_list, 'picture_url':pic_list})\n",
    "anime_df.head()"
   ]
  },
  {
   "cell_type": "code",
   "execution_count": 6,
   "id": "4f4e90fd-fe17-46b1-813a-6ef72f938fbb",
   "metadata": {
    "tags": []
   },
   "outputs": [
    {
     "data": {
      "text/plain": [
       "(10000, 3)"
      ]
     },
     "execution_count": 6,
     "metadata": {},
     "output_type": "execute_result"
    }
   ],
   "source": [
    "anime_df.shape"
   ]
  },
  {
   "cell_type": "code",
   "execution_count": 7,
   "id": "8bc3eebe-b8ba-4df9-8c78-b657f2f4d626",
   "metadata": {
    "tags": []
   },
   "outputs": [
    {
     "data": {
      "text/plain": [
       "False    10000\n",
       "dtype: int64"
      ]
     },
     "execution_count": 7,
     "metadata": {},
     "output_type": "execute_result"
    }
   ],
   "source": [
    "# check for duplicates\n",
    "anime_df.duplicated().value_counts()"
   ]
  },
  {
   "cell_type": "code",
   "execution_count": 9,
   "id": "372f3874-d8b3-44c5-aca1-6f6c96fac324",
   "metadata": {
    "tags": []
   },
   "outputs": [],
   "source": [
    "# export dataframe to csv\n",
    "# anime_df.to_csv('data/anime_df.csv', index=False)"
   ]
  },
  {
   "cell_type": "markdown",
   "id": "502df058-b1d4-45a5-9edc-fd1d91074abe",
   "metadata": {},
   "source": [
    "# Get anime details"
   ]
  },
  {
   "cell_type": "code",
   "execution_count": 10,
   "id": "a50929b8-0fc8-47af-a67d-ce761d6c950c",
   "metadata": {
    "tags": []
   },
   "outputs": [],
   "source": [
    "# list of fields available for getting anime details \n",
    "# id,title,main_picture,alternative_titles,start_date,end_date,synopsis,mean,rank,popularity,num_list_users,num_scoring_users,\n",
    "# nsfw,created_at,updated_at,media_type,status,genres,my_list_status,num_episodes,start_season,broadcast,source,\n",
    "# average_episode_duration,rating,pictures,background,related_anime,related_manga,recommendations,studios,statistics"
   ]
  },
  {
   "cell_type": "code",
   "execution_count": 11,
   "id": "cf84c4df-b373-4aa8-876d-32afcccc8b97",
   "metadata": {
    "tags": []
   },
   "outputs": [
    {
     "data": {
      "text/plain": [
       "{'id': 51535,\n",
       " 'title': 'Shingeki no Kyojin: The Final Season - Kanketsu-hen',\n",
       " 'main_picture': {'medium': 'https://api-cdn.myanimelist.net/images/anime/1279/131078.jpg',\n",
       "  'large': 'https://api-cdn.myanimelist.net/images/anime/1279/131078l.jpg'},\n",
       " 'alternative_titles': {'synonyms': ['Shingeki no Kyojin: The Final Season Part 3',\n",
       "   'Shingeki no Kyojin Season 4',\n",
       "   'Attack on Titan Season 4'],\n",
       "  'en': 'Attack on Titan: Final Season - The Final Chapters',\n",
       "  'ja': '進撃の巨人 The Final Season完結編'},\n",
       " 'synopsis': 'The conclusion to Shingeki no Kyojin.',\n",
       " 'mean': 9.11,\n",
       " 'rank': 1,\n",
       " 'popularity': 540,\n",
       " 'nsfw': 'white',\n",
       " 'media_type': 'special',\n",
       " 'status': 'currently_airing',\n",
       " 'genres': [{'id': 1, 'name': 'Action'},\n",
       "  {'id': 8, 'name': 'Drama'},\n",
       "  {'id': 58, 'name': 'Gore'},\n",
       "  {'id': 38, 'name': 'Military'},\n",
       "  {'id': 27, 'name': 'Shounen'},\n",
       "  {'id': 76, 'name': 'Survival'},\n",
       "  {'id': 41, 'name': 'Suspense'}],\n",
       " 'num_episodes': 2,\n",
       " 'start_season': {'year': 2023, 'season': 'winter'},\n",
       " 'source': 'manga',\n",
       " 'average_episode_duration': 3690,\n",
       " 'rating': 'r',\n",
       " 'background': '',\n",
       " 'studios': [{'id': 569, 'name': 'MAPPA'}],\n",
       " 'statistics': {'status': {'watching': '188176',\n",
       "   'completed': '724',\n",
       "   'on_hold': '18741',\n",
       "   'dropped': '1009',\n",
       "   'plan_to_watch': '173452'},\n",
       "  'num_list_users': 382102}}"
      ]
     },
     "execution_count": 11,
     "metadata": {},
     "output_type": "execute_result"
    }
   ],
   "source": [
    "# example\n",
    "details_response = requests.get('https://api.myanimelist.net/v2/anime/51535?fields=id,alternative_titles,synopsis,mean,rank,popularity,nsfw,media_type,status,genres,num_episodes,start_season,source,average_episode_duration,rating,background,studios,statistics', headers=header)\n",
    "details_response_json = details_response.json()\n",
    "details_response_json"
   ]
  },
  {
   "cell_type": "code",
   "execution_count": 12,
   "id": "3afb031a-3918-4081-89fa-9ab3beea24ea",
   "metadata": {
    "scrolled": true,
    "tags": []
   },
   "outputs": [
    {
     "name": "stdout",
     "output_type": "stream",
     "text": [
      "anime_details_list length: 10000\n"
     ]
    }
   ],
   "source": [
    "anime_details_list = []\n",
    "\n",
    "# First way: takes about 2.5 hours\n",
    "for x in idx_list:\n",
    "    api_url = f'https://api.myanimelist.net/v2/anime/{x}?fields=id,alternative_titles,synopsis,mean,rank,popularity,nsfw,media_type,status,genres,num_episodes,start_season,source,average_episode_duration,rating,background,studios,statistics'\n",
    "    anime_details_list.append(requests.get(api_url, headers=header).json())\n",
    "    time.sleep(0.5)\n",
    "\n",
    "# If the above loop encounters error (json decoder error / server busy), then try this second way: takes about 3-4 hours.\n",
    "# for i in range(0, 10000, 400):\n",
    "#     for x in idx_list[i:i+400]:\n",
    "#         api_url = f'https://api.myanimelist.net/v2/anime/{x}?fields=id,alternative_titles,synopsis,mean,rank,popularity,nsfw,media_type,status,genres,num_episodes,start_season,source,average_episode_duration,rating,background,studios,statistics'\n",
    "#         anime_details_list.append(requests.get(api_url, headers=header).json())\n",
    "#     time.sleep(180)\n",
    "\n",
    "print('anime_details_list length:', len(anime_details_list))"
   ]
  },
  {
   "cell_type": "code",
   "execution_count": 13,
   "id": "2c05f925-4c2f-4a0a-9051-b3ca8c648000",
   "metadata": {
    "tags": []
   },
   "outputs": [
    {
     "data": {
      "text/html": [
       "<div>\n",
       "<style scoped>\n",
       "    .dataframe tbody tr th:only-of-type {\n",
       "        vertical-align: middle;\n",
       "    }\n",
       "\n",
       "    .dataframe tbody tr th {\n",
       "        vertical-align: top;\n",
       "    }\n",
       "\n",
       "    .dataframe thead th {\n",
       "        text-align: right;\n",
       "    }\n",
       "</style>\n",
       "<table border=\"1\" class=\"dataframe\">\n",
       "  <thead>\n",
       "    <tr style=\"text-align: right;\">\n",
       "      <th></th>\n",
       "      <th>id</th>\n",
       "      <th>alternative_titles</th>\n",
       "      <th>synopsis</th>\n",
       "      <th>mean</th>\n",
       "      <th>rank</th>\n",
       "      <th>popularity</th>\n",
       "      <th>nsfw</th>\n",
       "      <th>media_type</th>\n",
       "      <th>status</th>\n",
       "      <th>genres</th>\n",
       "      <th>num_episodes</th>\n",
       "      <th>start_season</th>\n",
       "      <th>source</th>\n",
       "      <th>average_episode_duration</th>\n",
       "      <th>rating</th>\n",
       "      <th>background</th>\n",
       "      <th>studios</th>\n",
       "      <th>statistics</th>\n",
       "    </tr>\n",
       "  </thead>\n",
       "  <tbody>\n",
       "    <tr>\n",
       "      <th>0</th>\n",
       "      <td>51535</td>\n",
       "      <td>{'synonyms': ['Shingeki no Kyojin: The Final S...</td>\n",
       "      <td>The conclusion to Shingeki no Kyojin.</td>\n",
       "      <td>9.11</td>\n",
       "      <td>1</td>\n",
       "      <td>540</td>\n",
       "      <td>white</td>\n",
       "      <td>special</td>\n",
       "      <td>currently_airing</td>\n",
       "      <td>[{'id': 1, 'name': 'Action'}, {'id': 8, 'name'...</td>\n",
       "      <td>2</td>\n",
       "      <td>{'year': 2023, 'season': 'winter'}</td>\n",
       "      <td>manga</td>\n",
       "      <td>3690</td>\n",
       "      <td>r</td>\n",
       "      <td></td>\n",
       "      <td>[{'id': 569, 'name': 'MAPPA'}]</td>\n",
       "      <td>{'status': {'watching': '188176', 'completed':...</td>\n",
       "    </tr>\n",
       "    <tr>\n",
       "      <th>1</th>\n",
       "      <td>5114</td>\n",
       "      <td>{'synonyms': ['Hagane no Renkinjutsushi: Fullm...</td>\n",
       "      <td>After a horrific alchemy experiment goes wrong...</td>\n",
       "      <td>9.11</td>\n",
       "      <td>2</td>\n",
       "      <td>3</td>\n",
       "      <td>white</td>\n",
       "      <td>tv</td>\n",
       "      <td>finished_airing</td>\n",
       "      <td>[{'id': 1, 'name': 'Action'}, {'id': 2, 'name'...</td>\n",
       "      <td>64</td>\n",
       "      <td>{'year': 2009, 'season': 'spring'}</td>\n",
       "      <td>manga</td>\n",
       "      <td>1460</td>\n",
       "      <td>r</td>\n",
       "      <td></td>\n",
       "      <td>[{'id': 4, 'name': 'Bones'}]</td>\n",
       "      <td>{'status': {'watching': '241806', 'completed':...</td>\n",
       "    </tr>\n",
       "    <tr>\n",
       "      <th>2</th>\n",
       "      <td>41467</td>\n",
       "      <td>{'synonyms': ['Bleach: Thousand-Year Blood War...</td>\n",
       "      <td>Substitute Soul Reaper Ichigo Kurosaki spends ...</td>\n",
       "      <td>9.08</td>\n",
       "      <td>3</td>\n",
       "      <td>495</td>\n",
       "      <td>white</td>\n",
       "      <td>tv</td>\n",
       "      <td>finished_airing</td>\n",
       "      <td>[{'id': 1, 'name': 'Action'}, {'id': 2, 'name'...</td>\n",
       "      <td>13</td>\n",
       "      <td>{'year': 2022, 'season': 'fall'}</td>\n",
       "      <td>manga</td>\n",
       "      <td>1471</td>\n",
       "      <td>r</td>\n",
       "      <td>Bleach: Sennen Kessen-hen adapts volume 55 to ...</td>\n",
       "      <td>[{'id': 1, 'name': 'Pierrot'}]</td>\n",
       "      <td>{'status': {'watching': '95738', 'completed': ...</td>\n",
       "    </tr>\n",
       "    <tr>\n",
       "      <th>3</th>\n",
       "      <td>9253</td>\n",
       "      <td>{'synonyms': [], 'en': 'Steins;Gate', 'ja': 'S...</td>\n",
       "      <td>Eccentric scientist Rintarou Okabe has a never...</td>\n",
       "      <td>9.08</td>\n",
       "      <td>4</td>\n",
       "      <td>13</td>\n",
       "      <td>white</td>\n",
       "      <td>tv</td>\n",
       "      <td>finished_airing</td>\n",
       "      <td>[{'id': 8, 'name': 'Drama'}, {'id': 40, 'name'...</td>\n",
       "      <td>24</td>\n",
       "      <td>{'year': 2011, 'season': 'spring'}</td>\n",
       "      <td>visual_novel</td>\n",
       "      <td>1460</td>\n",
       "      <td>pg_13</td>\n",
       "      <td>Steins;Gate is based on 5pb. and Nitroplus' vi...</td>\n",
       "      <td>[{'id': 314, 'name': 'White Fox'}]</td>\n",
       "      <td>{'status': {'watching': '157936', 'completed':...</td>\n",
       "    </tr>\n",
       "    <tr>\n",
       "      <th>4</th>\n",
       "      <td>28977</td>\n",
       "      <td>{'synonyms': ['Gintama' (2015)'], 'en': 'Ginta...</td>\n",
       "      <td>Gintoki, Shinpachi, and Kagura return as the f...</td>\n",
       "      <td>9.07</td>\n",
       "      <td>5</td>\n",
       "      <td>334</td>\n",
       "      <td>white</td>\n",
       "      <td>tv</td>\n",
       "      <td>finished_airing</td>\n",
       "      <td>[{'id': 1, 'name': 'Action'}, {'id': 4, 'name'...</td>\n",
       "      <td>51</td>\n",
       "      <td>{'year': 2015, 'season': 'spring'}</td>\n",
       "      <td>manga</td>\n",
       "      <td>1440</td>\n",
       "      <td>pg_13</td>\n",
       "      <td></td>\n",
       "      <td>[{'id': 1258, 'name': 'Bandai Namco Pictures'}]</td>\n",
       "      <td>{'status': {'watching': '64460', 'completed': ...</td>\n",
       "    </tr>\n",
       "  </tbody>\n",
       "</table>\n",
       "</div>"
      ],
      "text/plain": [
       "      id                                 alternative_titles  \\\n",
       "0  51535  {'synonyms': ['Shingeki no Kyojin: The Final S...   \n",
       "1   5114  {'synonyms': ['Hagane no Renkinjutsushi: Fullm...   \n",
       "2  41467  {'synonyms': ['Bleach: Thousand-Year Blood War...   \n",
       "3   9253  {'synonyms': [], 'en': 'Steins;Gate', 'ja': 'S...   \n",
       "4  28977  {'synonyms': ['Gintama' (2015)'], 'en': 'Ginta...   \n",
       "\n",
       "                                            synopsis  mean  rank  popularity  \\\n",
       "0              The conclusion to Shingeki no Kyojin.  9.11     1         540   \n",
       "1  After a horrific alchemy experiment goes wrong...  9.11     2           3   \n",
       "2  Substitute Soul Reaper Ichigo Kurosaki spends ...  9.08     3         495   \n",
       "3  Eccentric scientist Rintarou Okabe has a never...  9.08     4          13   \n",
       "4  Gintoki, Shinpachi, and Kagura return as the f...  9.07     5         334   \n",
       "\n",
       "    nsfw media_type            status  \\\n",
       "0  white    special  currently_airing   \n",
       "1  white         tv   finished_airing   \n",
       "2  white         tv   finished_airing   \n",
       "3  white         tv   finished_airing   \n",
       "4  white         tv   finished_airing   \n",
       "\n",
       "                                              genres  num_episodes  \\\n",
       "0  [{'id': 1, 'name': 'Action'}, {'id': 8, 'name'...             2   \n",
       "1  [{'id': 1, 'name': 'Action'}, {'id': 2, 'name'...            64   \n",
       "2  [{'id': 1, 'name': 'Action'}, {'id': 2, 'name'...            13   \n",
       "3  [{'id': 8, 'name': 'Drama'}, {'id': 40, 'name'...            24   \n",
       "4  [{'id': 1, 'name': 'Action'}, {'id': 4, 'name'...            51   \n",
       "\n",
       "                         start_season        source  average_episode_duration  \\\n",
       "0  {'year': 2023, 'season': 'winter'}         manga                      3690   \n",
       "1  {'year': 2009, 'season': 'spring'}         manga                      1460   \n",
       "2    {'year': 2022, 'season': 'fall'}         manga                      1471   \n",
       "3  {'year': 2011, 'season': 'spring'}  visual_novel                      1460   \n",
       "4  {'year': 2015, 'season': 'spring'}         manga                      1440   \n",
       "\n",
       "  rating                                         background  \\\n",
       "0      r                                                      \n",
       "1      r                                                      \n",
       "2      r  Bleach: Sennen Kessen-hen adapts volume 55 to ...   \n",
       "3  pg_13  Steins;Gate is based on 5pb. and Nitroplus' vi...   \n",
       "4  pg_13                                                      \n",
       "\n",
       "                                           studios  \\\n",
       "0                   [{'id': 569, 'name': 'MAPPA'}]   \n",
       "1                     [{'id': 4, 'name': 'Bones'}]   \n",
       "2                   [{'id': 1, 'name': 'Pierrot'}]   \n",
       "3               [{'id': 314, 'name': 'White Fox'}]   \n",
       "4  [{'id': 1258, 'name': 'Bandai Namco Pictures'}]   \n",
       "\n",
       "                                          statistics  \n",
       "0  {'status': {'watching': '188176', 'completed':...  \n",
       "1  {'status': {'watching': '241806', 'completed':...  \n",
       "2  {'status': {'watching': '95738', 'completed': ...  \n",
       "3  {'status': {'watching': '157936', 'completed':...  \n",
       "4  {'status': {'watching': '64460', 'completed': ...  "
      ]
     },
     "execution_count": 13,
     "metadata": {},
     "output_type": "execute_result"
    }
   ],
   "source": [
    "anime_details_df = pd.DataFrame(anime_details_list)\n",
    "anime_details_df.drop(['title', 'main_picture'], axis=1, inplace=True)\n",
    "anime_details_df.head()"
   ]
  },
  {
   "cell_type": "code",
   "execution_count": 14,
   "id": "af724137-f466-4406-9f19-6fa512f4e9a9",
   "metadata": {
    "tags": []
   },
   "outputs": [
    {
     "data": {
      "text/plain": [
       "(10000, 18)"
      ]
     },
     "execution_count": 14,
     "metadata": {},
     "output_type": "execute_result"
    }
   ],
   "source": [
    "anime_details_df.shape"
   ]
  },
  {
   "cell_type": "code",
   "execution_count": 15,
   "id": "eb853a54-b7df-4cc2-bb72-21dd071c2b11",
   "metadata": {
    "tags": []
   },
   "outputs": [
    {
     "data": {
      "text/plain": [
       "False    10000\n",
       "Name: id, dtype: int64"
      ]
     },
     "execution_count": 15,
     "metadata": {},
     "output_type": "execute_result"
    }
   ],
   "source": [
    "# check for duplicates\n",
    "anime_details_df['id'].duplicated().value_counts()"
   ]
  },
  {
   "cell_type": "code",
   "execution_count": 17,
   "id": "35ed32ed-15c0-448c-a879-5bc37191cf87",
   "metadata": {
    "tags": []
   },
   "outputs": [],
   "source": [
    "# export dataframe to csv\n",
    "# anime_details_df.to_csv('data/anime_details_df.csv', index=False)"
   ]
  }
 ],
 "metadata": {
  "kernelspec": {
   "display_name": "anime-recommendation",
   "language": "python",
   "name": "anime-recommendation"
  },
  "language_info": {
   "codemirror_mode": {
    "name": "ipython",
    "version": 3
   },
   "file_extension": ".py",
   "mimetype": "text/x-python",
   "name": "python",
   "nbconvert_exporter": "python",
   "pygments_lexer": "ipython3",
   "version": "3.11.2"
  }
 },
 "nbformat": 4,
 "nbformat_minor": 5
}
