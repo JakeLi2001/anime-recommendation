{
 "cells": [
  {
   "cell_type": "code",
   "execution_count": 9,
   "id": "3335890b-bfd0-4e4e-8e48-ab0ec9d8690a",
   "metadata": {
    "tags": []
   },
   "outputs": [],
   "source": [
    "import requests\n",
    "import pandas as pd\n",
    "import time\n",
    "import key"
   ]
  },
  {
   "cell_type": "markdown",
   "id": "fde207a9-9fcf-45cb-8f81-ad31041de955",
   "metadata": {},
   "source": [
    "# Get anime list"
   ]
  },
  {
   "cell_type": "code",
   "execution_count": 10,
   "id": "dd6dc4a2-daa0-4b50-b2ed-7fc20a0a1853",
   "metadata": {
    "tags": []
   },
   "outputs": [],
   "source": [
    "# api key for the header\n",
    "header = {'X-MAL-CLIENT-ID':key.api_key}"
   ]
  },
  {
   "cell_type": "code",
   "execution_count": 11,
   "id": "b634a57b-a0dd-48f8-a4ae-4c90fa7078ed",
   "metadata": {
    "tags": []
   },
   "outputs": [
    {
     "data": {
      "text/plain": [
       "{'data': [{'node': {'id': 51535,\n",
       "    'title': 'Shingeki no Kyojin: The Final Season - Kanketsu-hen',\n",
       "    'main_picture': {'medium': 'https://api-cdn.myanimelist.net/images/anime/1279/131078.jpg',\n",
       "     'large': 'https://api-cdn.myanimelist.net/images/anime/1279/131078l.jpg'}},\n",
       "   'ranking': {'rank': 1}},\n",
       "  {'node': {'id': 5114,\n",
       "    'title': 'Fullmetal Alchemist: Brotherhood',\n",
       "    'main_picture': {'medium': 'https://api-cdn.myanimelist.net/images/anime/1208/94745.jpg',\n",
       "     'large': 'https://api-cdn.myanimelist.net/images/anime/1208/94745l.jpg'}},\n",
       "   'ranking': {'rank': 2}}],\n",
       " 'paging': {'next': 'https://api.myanimelist.net/v2/anime/ranking?offset=2&ranking_type=all&limit=2'}}"
      ]
     },
     "execution_count": 11,
     "metadata": {},
     "output_type": "execute_result"
    }
   ],
   "source": [
    "# example\n",
    "anime_response = requests.get(\"https://api.myanimelist.net/v2/anime/ranking?ranking_type=all&limit=2\",  headers=header)\n",
    "anime_response_json = anime_response.json()\n",
    "anime_response_json"
   ]
  },
  {
   "cell_type": "code",
   "execution_count": 12,
   "id": "4b1a686d-f5f5-4d48-9af5-f7b9fea5983f",
   "metadata": {
    "tags": []
   },
   "outputs": [
    {
     "name": "stdout",
     "output_type": "stream",
     "text": [
      "idx_list length: 10000\n",
      "title_list length: 10000\n",
      "pic_list length: 10000\n"
     ]
    }
   ],
   "source": [
    "x = 0\n",
    "idx_list = []\n",
    "title_list = []\n",
    "pic_list = []\n",
    "api_url = \"https://api.myanimelist.net/v2/anime/ranking?ranking_type=all&limit=500\"\n",
    "\n",
    "while x < 10000:\n",
    "    anime_response_json = requests.get(api_url, headers=header).json()\n",
    "    for i in range(500):\n",
    "        idx_list.append(anime_response_json['data'][i]['node']['id'])\n",
    "        title_list.append(anime_response_json['data'][i]['node']['title'])\n",
    "        pic_list.append(anime_response_json['data'][i]['node']['main_picture']['medium'])\n",
    "    api_url = anime_response_json['paging']['next']\n",
    "    x += 500\n",
    "\n",
    "print('idx_list length:', len(idx_list))\n",
    "print('title_list length:', len(title_list))\n",
    "print('pic_list length:', len(pic_list))"
   ]
  },
  {
   "cell_type": "code",
   "execution_count": 13,
   "id": "55054d95-f98b-4f52-9f39-a77db59de346",
   "metadata": {
    "tags": []
   },
   "outputs": [
    {
     "data": {
      "text/html": [
       "<div>\n",
       "<style scoped>\n",
       "    .dataframe tbody tr th:only-of-type {\n",
       "        vertical-align: middle;\n",
       "    }\n",
       "\n",
       "    .dataframe tbody tr th {\n",
       "        vertical-align: top;\n",
       "    }\n",
       "\n",
       "    .dataframe thead th {\n",
       "        text-align: right;\n",
       "    }\n",
       "</style>\n",
       "<table border=\"1\" class=\"dataframe\">\n",
       "  <thead>\n",
       "    <tr style=\"text-align: right;\">\n",
       "      <th></th>\n",
       "      <th>id</th>\n",
       "      <th>title</th>\n",
       "      <th>picture_url</th>\n",
       "    </tr>\n",
       "  </thead>\n",
       "  <tbody>\n",
       "    <tr>\n",
       "      <th>0</th>\n",
       "      <td>51535</td>\n",
       "      <td>Shingeki no Kyojin: The Final Season - Kankets...</td>\n",
       "      <td>https://api-cdn.myanimelist.net/images/anime/1...</td>\n",
       "    </tr>\n",
       "    <tr>\n",
       "      <th>1</th>\n",
       "      <td>5114</td>\n",
       "      <td>Fullmetal Alchemist: Brotherhood</td>\n",
       "      <td>https://api-cdn.myanimelist.net/images/anime/1...</td>\n",
       "    </tr>\n",
       "    <tr>\n",
       "      <th>2</th>\n",
       "      <td>41467</td>\n",
       "      <td>Bleach: Sennen Kessen-hen</td>\n",
       "      <td>https://api-cdn.myanimelist.net/images/anime/1...</td>\n",
       "    </tr>\n",
       "    <tr>\n",
       "      <th>3</th>\n",
       "      <td>9253</td>\n",
       "      <td>Steins;Gate</td>\n",
       "      <td>https://api-cdn.myanimelist.net/images/anime/1...</td>\n",
       "    </tr>\n",
       "    <tr>\n",
       "      <th>4</th>\n",
       "      <td>28977</td>\n",
       "      <td>Gintama°</td>\n",
       "      <td>https://api-cdn.myanimelist.net/images/anime/3...</td>\n",
       "    </tr>\n",
       "  </tbody>\n",
       "</table>\n",
       "</div>"
      ],
      "text/plain": [
       "      id                                              title  \\\n",
       "0  51535  Shingeki no Kyojin: The Final Season - Kankets...   \n",
       "1   5114                   Fullmetal Alchemist: Brotherhood   \n",
       "2  41467                          Bleach: Sennen Kessen-hen   \n",
       "3   9253                                        Steins;Gate   \n",
       "4  28977                                           Gintama°   \n",
       "\n",
       "                                         picture_url  \n",
       "0  https://api-cdn.myanimelist.net/images/anime/1...  \n",
       "1  https://api-cdn.myanimelist.net/images/anime/1...  \n",
       "2  https://api-cdn.myanimelist.net/images/anime/1...  \n",
       "3  https://api-cdn.myanimelist.net/images/anime/1...  \n",
       "4  https://api-cdn.myanimelist.net/images/anime/3...  "
      ]
     },
     "execution_count": 13,
     "metadata": {},
     "output_type": "execute_result"
    }
   ],
   "source": [
    "anime_df = pd.DataFrame(data={'id':idx_list, 'title':title_list, 'picture_url':pic_list})\n",
    "anime_df.head()"
   ]
  },
  {
   "cell_type": "code",
   "execution_count": 14,
   "id": "4f4e90fd-fe17-46b1-813a-6ef72f938fbb",
   "metadata": {
    "tags": []
   },
   "outputs": [
    {
     "data": {
      "text/plain": [
       "(10000, 3)"
      ]
     },
     "execution_count": 14,
     "metadata": {},
     "output_type": "execute_result"
    }
   ],
   "source": [
    "anime_df.shape"
   ]
  },
  {
   "cell_type": "code",
   "execution_count": 15,
   "id": "8bc3eebe-b8ba-4df9-8c78-b657f2f4d626",
   "metadata": {
    "tags": []
   },
   "outputs": [
    {
     "data": {
      "text/plain": [
       "False    10000\n",
       "dtype: int64"
      ]
     },
     "execution_count": 15,
     "metadata": {},
     "output_type": "execute_result"
    }
   ],
   "source": [
    "# check for duplicates\n",
    "anime_df.duplicated().value_counts()"
   ]
  },
  {
   "cell_type": "code",
   "execution_count": 16,
   "id": "c2f15d9b-cf17-496f-adda-fb48ae1648ad",
   "metadata": {
    "tags": []
   },
   "outputs": [
    {
     "data": {
      "text/plain": [
       "id             0\n",
       "title          0\n",
       "picture_url    0\n",
       "dtype: int64"
      ]
     },
     "execution_count": 16,
     "metadata": {},
     "output_type": "execute_result"
    }
   ],
   "source": [
    "# check nulls\n",
    "anime_df.isnull().sum()"
   ]
  },
  {
   "cell_type": "code",
   "execution_count": 17,
   "id": "372f3874-d8b3-44c5-aca1-6f6c96fac324",
   "metadata": {
    "tags": []
   },
   "outputs": [],
   "source": [
    "anime_df.to_csv('data/anime_df.csv', index=False)"
   ]
  },
  {
   "cell_type": "markdown",
   "id": "502df058-b1d4-45a5-9edc-fd1d91074abe",
   "metadata": {},
   "source": [
    "# Get anime details"
   ]
  },
  {
   "cell_type": "code",
   "execution_count": 18,
   "id": "a50929b8-0fc8-47af-a67d-ce761d6c950c",
   "metadata": {
    "tags": []
   },
   "outputs": [],
   "source": [
    "# list of fields available for getting anime details \n",
    "# id,title,main_picture,alternative_titles,start_date,end_date,synopsis,mean,rank,popularity,num_list_users,num_scoring_users,\n",
    "# nsfw,created_at,updated_at,media_type,status,genres,my_list_status,num_episodes,start_season,broadcast,source,\n",
    "# average_episode_duration,rating,pictures,background,related_anime,related_manga,recommendations,studios,statistics"
   ]
  },
  {
   "cell_type": "code",
   "execution_count": 22,
   "id": "cf84c4df-b373-4aa8-876d-32afcccc8b97",
   "metadata": {
    "tags": []
   },
   "outputs": [
    {
     "data": {
      "text/plain": [
       "{'id': 51535,\n",
       " 'title': 'Shingeki no Kyojin: The Final Season - Kanketsu-hen',\n",
       " 'main_picture': {'medium': 'https://api-cdn.myanimelist.net/images/anime/1279/131078.jpg',\n",
       "  'large': 'https://api-cdn.myanimelist.net/images/anime/1279/131078l.jpg'},\n",
       " 'alternative_titles': {'synonyms': ['Shingeki no Kyojin: The Final Season Part 3',\n",
       "   'Shingeki no Kyojin Season 4',\n",
       "   'Attack on Titan Season 4'],\n",
       "  'en': 'Attack on Titan: Final Season - The Final Chapters',\n",
       "  'ja': '進撃の巨人 The Final Season完結編'},\n",
       " 'synopsis': 'The conclusion to Shingeki no Kyojin.',\n",
       " 'mean': 9.11,\n",
       " 'rank': 1,\n",
       " 'popularity': 540,\n",
       " 'nsfw': 'white',\n",
       " 'media_type': 'special',\n",
       " 'status': 'currently_airing',\n",
       " 'genres': [{'id': 1, 'name': 'Action'},\n",
       "  {'id': 8, 'name': 'Drama'},\n",
       "  {'id': 58, 'name': 'Gore'},\n",
       "  {'id': 38, 'name': 'Military'},\n",
       "  {'id': 27, 'name': 'Shounen'},\n",
       "  {'id': 76, 'name': 'Survival'},\n",
       "  {'id': 41, 'name': 'Suspense'}],\n",
       " 'num_episodes': 2,\n",
       " 'start_season': {'year': 2023, 'season': 'winter'},\n",
       " 'source': 'manga',\n",
       " 'average_episode_duration': 3690,\n",
       " 'rating': 'r',\n",
       " 'background': '',\n",
       " 'studios': [{'id': 569, 'name': 'MAPPA'}],\n",
       " 'statistics': {'status': {'watching': '188176',\n",
       "   'completed': '724',\n",
       "   'on_hold': '18741',\n",
       "   'dropped': '1009',\n",
       "   'plan_to_watch': '173452'},\n",
       "  'num_list_users': 382102}}"
      ]
     },
     "execution_count": 22,
     "metadata": {},
     "output_type": "execute_result"
    }
   ],
   "source": [
    "# example\n",
    "details_response = requests.get('https://api.myanimelist.net/v2/anime/51535?fields=id,alternative_titles,synopsis,mean,rank,popularity,nsfw,media_type,status,genres,num_episodes,start_season,source,average_episode_duration,rating,background,studios,statistics', headers=header)\n",
    "details_response_json = details_response.json()\n",
    "details_response_json"
   ]
  },
  {
   "cell_type": "code",
   "execution_count": 23,
   "id": "3afb031a-3918-4081-89fa-9ab3beea24ea",
   "metadata": {
    "scrolled": true,
    "tags": []
   },
   "outputs": [
    {
     "ename": "JSONDecodeError",
     "evalue": "Expecting value: line 1 column 1 (char 0)",
     "output_type": "error",
     "traceback": [
      "\u001b[0;31m---------------------------------------------------------------------------\u001b[0m",
      "\u001b[0;31mJSONDecodeError\u001b[0m                           Traceback (most recent call last)",
      "File \u001b[0;32m/opt/miniconda3/envs/anime-recommendation/lib/python3.11/site-packages/requests/models.py:971\u001b[0m, in \u001b[0;36mResponse.json\u001b[0;34m(self, **kwargs)\u001b[0m\n\u001b[1;32m    970\u001b[0m \u001b[38;5;28;01mtry\u001b[39;00m:\n\u001b[0;32m--> 971\u001b[0m     \u001b[38;5;28;01mreturn\u001b[39;00m \u001b[43mcomplexjson\u001b[49m\u001b[38;5;241;43m.\u001b[39;49m\u001b[43mloads\u001b[49m\u001b[43m(\u001b[49m\u001b[38;5;28;43mself\u001b[39;49m\u001b[38;5;241;43m.\u001b[39;49m\u001b[43mtext\u001b[49m\u001b[43m,\u001b[49m\u001b[43m \u001b[49m\u001b[38;5;241;43m*\u001b[39;49m\u001b[38;5;241;43m*\u001b[39;49m\u001b[43mkwargs\u001b[49m\u001b[43m)\u001b[49m\n\u001b[1;32m    972\u001b[0m \u001b[38;5;28;01mexcept\u001b[39;00m JSONDecodeError \u001b[38;5;28;01mas\u001b[39;00m e:\n\u001b[1;32m    973\u001b[0m     \u001b[38;5;66;03m# Catch JSON-related errors and raise as requests.JSONDecodeError\u001b[39;00m\n\u001b[1;32m    974\u001b[0m     \u001b[38;5;66;03m# This aliases json.JSONDecodeError and simplejson.JSONDecodeError\u001b[39;00m\n",
      "File \u001b[0;32m/opt/miniconda3/envs/anime-recommendation/lib/python3.11/json/__init__.py:346\u001b[0m, in \u001b[0;36mloads\u001b[0;34m(s, cls, object_hook, parse_float, parse_int, parse_constant, object_pairs_hook, **kw)\u001b[0m\n\u001b[1;32m    343\u001b[0m \u001b[38;5;28;01mif\u001b[39;00m (\u001b[38;5;28mcls\u001b[39m \u001b[38;5;129;01mis\u001b[39;00m \u001b[38;5;28;01mNone\u001b[39;00m \u001b[38;5;129;01mand\u001b[39;00m object_hook \u001b[38;5;129;01mis\u001b[39;00m \u001b[38;5;28;01mNone\u001b[39;00m \u001b[38;5;129;01mand\u001b[39;00m\n\u001b[1;32m    344\u001b[0m         parse_int \u001b[38;5;129;01mis\u001b[39;00m \u001b[38;5;28;01mNone\u001b[39;00m \u001b[38;5;129;01mand\u001b[39;00m parse_float \u001b[38;5;129;01mis\u001b[39;00m \u001b[38;5;28;01mNone\u001b[39;00m \u001b[38;5;129;01mand\u001b[39;00m\n\u001b[1;32m    345\u001b[0m         parse_constant \u001b[38;5;129;01mis\u001b[39;00m \u001b[38;5;28;01mNone\u001b[39;00m \u001b[38;5;129;01mand\u001b[39;00m object_pairs_hook \u001b[38;5;129;01mis\u001b[39;00m \u001b[38;5;28;01mNone\u001b[39;00m \u001b[38;5;129;01mand\u001b[39;00m \u001b[38;5;129;01mnot\u001b[39;00m kw):\n\u001b[0;32m--> 346\u001b[0m     \u001b[38;5;28;01mreturn\u001b[39;00m \u001b[43m_default_decoder\u001b[49m\u001b[38;5;241;43m.\u001b[39;49m\u001b[43mdecode\u001b[49m\u001b[43m(\u001b[49m\u001b[43ms\u001b[49m\u001b[43m)\u001b[49m\n\u001b[1;32m    347\u001b[0m \u001b[38;5;28;01mif\u001b[39;00m \u001b[38;5;28mcls\u001b[39m \u001b[38;5;129;01mis\u001b[39;00m \u001b[38;5;28;01mNone\u001b[39;00m:\n",
      "File \u001b[0;32m/opt/miniconda3/envs/anime-recommendation/lib/python3.11/json/decoder.py:337\u001b[0m, in \u001b[0;36mJSONDecoder.decode\u001b[0;34m(self, s, _w)\u001b[0m\n\u001b[1;32m    333\u001b[0m \u001b[38;5;250m\u001b[39m\u001b[38;5;124;03m\"\"\"Return the Python representation of ``s`` (a ``str`` instance\u001b[39;00m\n\u001b[1;32m    334\u001b[0m \u001b[38;5;124;03mcontaining a JSON document).\u001b[39;00m\n\u001b[1;32m    335\u001b[0m \n\u001b[1;32m    336\u001b[0m \u001b[38;5;124;03m\"\"\"\u001b[39;00m\n\u001b[0;32m--> 337\u001b[0m obj, end \u001b[38;5;241m=\u001b[39m \u001b[38;5;28;43mself\u001b[39;49m\u001b[38;5;241;43m.\u001b[39;49m\u001b[43mraw_decode\u001b[49m\u001b[43m(\u001b[49m\u001b[43ms\u001b[49m\u001b[43m,\u001b[49m\u001b[43m \u001b[49m\u001b[43midx\u001b[49m\u001b[38;5;241;43m=\u001b[39;49m\u001b[43m_w\u001b[49m\u001b[43m(\u001b[49m\u001b[43ms\u001b[49m\u001b[43m,\u001b[49m\u001b[43m \u001b[49m\u001b[38;5;241;43m0\u001b[39;49m\u001b[43m)\u001b[49m\u001b[38;5;241;43m.\u001b[39;49m\u001b[43mend\u001b[49m\u001b[43m(\u001b[49m\u001b[43m)\u001b[49m\u001b[43m)\u001b[49m\n\u001b[1;32m    338\u001b[0m end \u001b[38;5;241m=\u001b[39m _w(s, end)\u001b[38;5;241m.\u001b[39mend()\n",
      "File \u001b[0;32m/opt/miniconda3/envs/anime-recommendation/lib/python3.11/json/decoder.py:355\u001b[0m, in \u001b[0;36mJSONDecoder.raw_decode\u001b[0;34m(self, s, idx)\u001b[0m\n\u001b[1;32m    354\u001b[0m \u001b[38;5;28;01mexcept\u001b[39;00m \u001b[38;5;167;01mStopIteration\u001b[39;00m \u001b[38;5;28;01mas\u001b[39;00m err:\n\u001b[0;32m--> 355\u001b[0m     \u001b[38;5;28;01mraise\u001b[39;00m JSONDecodeError(\u001b[38;5;124m\"\u001b[39m\u001b[38;5;124mExpecting value\u001b[39m\u001b[38;5;124m\"\u001b[39m, s, err\u001b[38;5;241m.\u001b[39mvalue) \u001b[38;5;28;01mfrom\u001b[39;00m \u001b[38;5;28mNone\u001b[39m\n\u001b[1;32m    356\u001b[0m \u001b[38;5;28;01mreturn\u001b[39;00m obj, end\n",
      "\u001b[0;31mJSONDecodeError\u001b[0m: Expecting value: line 1 column 1 (char 0)",
      "\nDuring handling of the above exception, another exception occurred:\n",
      "\u001b[0;31mJSONDecodeError\u001b[0m                           Traceback (most recent call last)",
      "Cell \u001b[0;32mIn[23], line 13\u001b[0m\n\u001b[1;32m     11\u001b[0m     \u001b[38;5;28;01mfor\u001b[39;00m x \u001b[38;5;129;01min\u001b[39;00m idx_list[i:i\u001b[38;5;241m+\u001b[39m\u001b[38;5;241m400\u001b[39m]:\n\u001b[1;32m     12\u001b[0m         api_url \u001b[38;5;241m=\u001b[39m \u001b[38;5;124mf\u001b[39m\u001b[38;5;124m'\u001b[39m\u001b[38;5;124mhttps://api.myanimelist.net/v2/anime/\u001b[39m\u001b[38;5;132;01m{\u001b[39;00mx\u001b[38;5;132;01m}\u001b[39;00m\u001b[38;5;124m?fields=id,alternative_titles,synopsis,mean,rank,popularity,nsfw,media_type,status,genres,num_episodes,start_season,source,average_episode_duration,rating,background,studios,statistics\u001b[39m\u001b[38;5;124m'\u001b[39m\n\u001b[0;32m---> 13\u001b[0m         anime_details_list\u001b[38;5;241m.\u001b[39mappend(\u001b[43mrequests\u001b[49m\u001b[38;5;241;43m.\u001b[39;49m\u001b[43mget\u001b[49m\u001b[43m(\u001b[49m\u001b[43mapi_url\u001b[49m\u001b[43m,\u001b[49m\u001b[43m \u001b[49m\u001b[43mheaders\u001b[49m\u001b[38;5;241;43m=\u001b[39;49m\u001b[43mheader\u001b[49m\u001b[43m)\u001b[49m\u001b[38;5;241;43m.\u001b[39;49m\u001b[43mjson\u001b[49m\u001b[43m(\u001b[49m\u001b[43m)\u001b[49m)\n\u001b[1;32m     14\u001b[0m     time\u001b[38;5;241m.\u001b[39msleep(\u001b[38;5;241m180\u001b[39m)\n\u001b[1;32m     16\u001b[0m \u001b[38;5;28mprint\u001b[39m(\u001b[38;5;124m'\u001b[39m\u001b[38;5;124manime_details_list length:\u001b[39m\u001b[38;5;124m'\u001b[39m, \u001b[38;5;28mlen\u001b[39m(anime_details_list))\n",
      "File \u001b[0;32m/opt/miniconda3/envs/anime-recommendation/lib/python3.11/site-packages/requests/models.py:975\u001b[0m, in \u001b[0;36mResponse.json\u001b[0;34m(self, **kwargs)\u001b[0m\n\u001b[1;32m    971\u001b[0m     \u001b[38;5;28;01mreturn\u001b[39;00m complexjson\u001b[38;5;241m.\u001b[39mloads(\u001b[38;5;28mself\u001b[39m\u001b[38;5;241m.\u001b[39mtext, \u001b[38;5;241m*\u001b[39m\u001b[38;5;241m*\u001b[39mkwargs)\n\u001b[1;32m    972\u001b[0m \u001b[38;5;28;01mexcept\u001b[39;00m JSONDecodeError \u001b[38;5;28;01mas\u001b[39;00m e:\n\u001b[1;32m    973\u001b[0m     \u001b[38;5;66;03m# Catch JSON-related errors and raise as requests.JSONDecodeError\u001b[39;00m\n\u001b[1;32m    974\u001b[0m     \u001b[38;5;66;03m# This aliases json.JSONDecodeError and simplejson.JSONDecodeError\u001b[39;00m\n\u001b[0;32m--> 975\u001b[0m     \u001b[38;5;28;01mraise\u001b[39;00m RequestsJSONDecodeError(e\u001b[38;5;241m.\u001b[39mmsg, e\u001b[38;5;241m.\u001b[39mdoc, e\u001b[38;5;241m.\u001b[39mpos)\n",
      "\u001b[0;31mJSONDecodeError\u001b[0m: Expecting value: line 1 column 1 (char 0)"
     ]
    }
   ],
   "source": [
    "anime_details_list = []\n",
    "\n",
    "# First way: takes about 2.5 hours\n",
    "# for x in idx_list:\n",
    "#     api_url = f'https://api.myanimelist.net/v2/anime/{x}?fields=id,alternative_titles,synopsis,mean,rank,popularity,nsfw,media_type,status,genres,num_episodes,start_season,source,average_episode_duration,rating,background,studios,statistics'\n",
    "#     anime_details_list.append(requests.get(api_url, headers=header).json())\n",
    "#     time.sleep(0.5)\n",
    "\n",
    "# If the above loop encounters error (json decoder error / server busy), then try this second way: takes about 3-4 hours.\n",
    "for i in range(0, 10000, 400):\n",
    "    for x in idx_list[i:i+400]:\n",
    "        api_url = f'https://api.myanimelist.net/v2/anime/{x}?fields=id,alternative_titles,synopsis,mean,rank,popularity,nsfw,media_type,status,genres,num_episodes,start_season,source,average_episode_duration,rating,background,studios,statistics'\n",
    "        anime_details_list.append(requests.get(api_url, headers=header).json())\n",
    "    time.sleep(180)\n",
    "\n",
    "print('anime_details_list length:', len(anime_details_list))"
   ]
  },
  {
   "cell_type": "code",
   "execution_count": 14,
   "id": "2c05f925-4c2f-4a0a-9051-b3ca8c648000",
   "metadata": {
    "tags": []
   },
   "outputs": [
    {
     "data": {
      "text/html": [
       "<div>\n",
       "<style scoped>\n",
       "    .dataframe tbody tr th:only-of-type {\n",
       "        vertical-align: middle;\n",
       "    }\n",
       "\n",
       "    .dataframe tbody tr th {\n",
       "        vertical-align: top;\n",
       "    }\n",
       "\n",
       "    .dataframe thead th {\n",
       "        text-align: right;\n",
       "    }\n",
       "</style>\n",
       "<table border=\"1\" class=\"dataframe\">\n",
       "  <thead>\n",
       "    <tr style=\"text-align: right;\">\n",
       "      <th></th>\n",
       "      <th>id</th>\n",
       "      <th>alternative_titles</th>\n",
       "      <th>synopsis</th>\n",
       "      <th>nsfw</th>\n",
       "      <th>media_type</th>\n",
       "      <th>genres</th>\n",
       "      <th>source</th>\n",
       "      <th>studios</th>\n",
       "    </tr>\n",
       "  </thead>\n",
       "  <tbody>\n",
       "    <tr>\n",
       "      <th>0</th>\n",
       "      <td>51535</td>\n",
       "      <td>{'synonyms': ['Shingeki no Kyojin: The Final S...</td>\n",
       "      <td>The conclusion to Shingeki no Kyojin.</td>\n",
       "      <td>white</td>\n",
       "      <td>special</td>\n",
       "      <td>[{'id': 1, 'name': 'Action'}, {'id': 8, 'name'...</td>\n",
       "      <td>manga</td>\n",
       "      <td>[{'id': 569, 'name': 'MAPPA'}]</td>\n",
       "    </tr>\n",
       "    <tr>\n",
       "      <th>1</th>\n",
       "      <td>5114</td>\n",
       "      <td>{'synonyms': ['Hagane no Renkinjutsushi: Fullm...</td>\n",
       "      <td>After a horrific alchemy experiment goes wrong...</td>\n",
       "      <td>white</td>\n",
       "      <td>tv</td>\n",
       "      <td>[{'id': 1, 'name': 'Action'}, {'id': 2, 'name'...</td>\n",
       "      <td>manga</td>\n",
       "      <td>[{'id': 4, 'name': 'Bones'}]</td>\n",
       "    </tr>\n",
       "    <tr>\n",
       "      <th>2</th>\n",
       "      <td>41467</td>\n",
       "      <td>{'synonyms': ['Bleach: Thousand-Year Blood War...</td>\n",
       "      <td>Substitute Soul Reaper Ichigo Kurosaki spends ...</td>\n",
       "      <td>white</td>\n",
       "      <td>tv</td>\n",
       "      <td>[{'id': 1, 'name': 'Action'}, {'id': 2, 'name'...</td>\n",
       "      <td>manga</td>\n",
       "      <td>[{'id': 1, 'name': 'Pierrot'}]</td>\n",
       "    </tr>\n",
       "    <tr>\n",
       "      <th>3</th>\n",
       "      <td>9253</td>\n",
       "      <td>{'synonyms': [], 'en': 'Steins;Gate', 'ja': 'S...</td>\n",
       "      <td>Eccentric scientist Rintarou Okabe has a never...</td>\n",
       "      <td>white</td>\n",
       "      <td>tv</td>\n",
       "      <td>[{'id': 8, 'name': 'Drama'}, {'id': 40, 'name'...</td>\n",
       "      <td>visual_novel</td>\n",
       "      <td>[{'id': 314, 'name': 'White Fox'}]</td>\n",
       "    </tr>\n",
       "    <tr>\n",
       "      <th>4</th>\n",
       "      <td>28977</td>\n",
       "      <td>{'synonyms': ['Gintama' (2015)'], 'en': 'Ginta...</td>\n",
       "      <td>Gintoki, Shinpachi, and Kagura return as the f...</td>\n",
       "      <td>white</td>\n",
       "      <td>tv</td>\n",
       "      <td>[{'id': 1, 'name': 'Action'}, {'id': 4, 'name'...</td>\n",
       "      <td>manga</td>\n",
       "      <td>[{'id': 1258, 'name': 'Bandai Namco Pictures'}]</td>\n",
       "    </tr>\n",
       "  </tbody>\n",
       "</table>\n",
       "</div>"
      ],
      "text/plain": [
       "      id                                 alternative_titles  \\\n",
       "0  51535  {'synonyms': ['Shingeki no Kyojin: The Final S...   \n",
       "1   5114  {'synonyms': ['Hagane no Renkinjutsushi: Fullm...   \n",
       "2  41467  {'synonyms': ['Bleach: Thousand-Year Blood War...   \n",
       "3   9253  {'synonyms': [], 'en': 'Steins;Gate', 'ja': 'S...   \n",
       "4  28977  {'synonyms': ['Gintama' (2015)'], 'en': 'Ginta...   \n",
       "\n",
       "                                            synopsis   nsfw media_type  \\\n",
       "0              The conclusion to Shingeki no Kyojin.  white    special   \n",
       "1  After a horrific alchemy experiment goes wrong...  white         tv   \n",
       "2  Substitute Soul Reaper Ichigo Kurosaki spends ...  white         tv   \n",
       "3  Eccentric scientist Rintarou Okabe has a never...  white         tv   \n",
       "4  Gintoki, Shinpachi, and Kagura return as the f...  white         tv   \n",
       "\n",
       "                                              genres        source  \\\n",
       "0  [{'id': 1, 'name': 'Action'}, {'id': 8, 'name'...         manga   \n",
       "1  [{'id': 1, 'name': 'Action'}, {'id': 2, 'name'...         manga   \n",
       "2  [{'id': 1, 'name': 'Action'}, {'id': 2, 'name'...         manga   \n",
       "3  [{'id': 8, 'name': 'Drama'}, {'id': 40, 'name'...  visual_novel   \n",
       "4  [{'id': 1, 'name': 'Action'}, {'id': 4, 'name'...         manga   \n",
       "\n",
       "                                           studios  \n",
       "0                   [{'id': 569, 'name': 'MAPPA'}]  \n",
       "1                     [{'id': 4, 'name': 'Bones'}]  \n",
       "2                   [{'id': 1, 'name': 'Pierrot'}]  \n",
       "3               [{'id': 314, 'name': 'White Fox'}]  \n",
       "4  [{'id': 1258, 'name': 'Bandai Namco Pictures'}]  "
      ]
     },
     "execution_count": 14,
     "metadata": {},
     "output_type": "execute_result"
    }
   ],
   "source": [
    "anime_details_df = pd.DataFrame(anime_details_list)\n",
    "anime_details_df.drop(['title', 'main_picture'], axis=1, inplace=True)\n",
    "anime_details_df.head()"
   ]
  },
  {
   "cell_type": "code",
   "execution_count": 28,
   "id": "af724137-f466-4406-9f19-6fa512f4e9a9",
   "metadata": {
    "tags": []
   },
   "outputs": [
    {
     "data": {
      "text/plain": [
       "(10000, 8)"
      ]
     },
     "execution_count": 28,
     "metadata": {},
     "output_type": "execute_result"
    }
   ],
   "source": [
    "anime_details_df.shape"
   ]
  },
  {
   "cell_type": "code",
   "execution_count": 29,
   "id": "eb853a54-b7df-4cc2-bb72-21dd071c2b11",
   "metadata": {
    "tags": []
   },
   "outputs": [
    {
     "data": {
      "text/plain": [
       "False    10000\n",
       "Name: id, dtype: int64"
      ]
     },
     "execution_count": 29,
     "metadata": {},
     "output_type": "execute_result"
    }
   ],
   "source": [
    "anime_details_df['id'].duplicated().value_counts()"
   ]
  },
  {
   "cell_type": "code",
   "execution_count": 30,
   "id": "35ed32ed-15c0-448c-a879-5bc37191cf87",
   "metadata": {},
   "outputs": [],
   "source": [
    "anime_details_df.to_csv('data/anime_details_df.csv', index=False)"
   ]
  }
 ],
 "metadata": {
  "kernelspec": {
   "display_name": "anime-recommendation",
   "language": "python",
   "name": "anime-recommendation"
  },
  "language_info": {
   "codemirror_mode": {
    "name": "ipython",
    "version": 3
   },
   "file_extension": ".py",
   "mimetype": "text/x-python",
   "name": "python",
   "nbconvert_exporter": "python",
   "pygments_lexer": "ipython3",
   "version": "3.11.2"
  }
 },
 "nbformat": 4,
 "nbformat_minor": 5
}
