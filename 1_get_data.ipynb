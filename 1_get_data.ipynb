{
 "cells": [
  {
   "cell_type": "code",
   "execution_count": 1,
   "id": "ab081e36-9b6e-47b0-8622-1c8a7076f081",
   "metadata": {},
   "outputs": [],
   "source": [
    "import requests\n",
    "import pandas as pd\n",
    "import key"
   ]
  },
  {
   "cell_type": "markdown",
   "id": "989d8aa9-6cb3-48e4-8e30-d65c6accc87e",
   "metadata": {},
   "source": [
    "# Get Anime Data from API"
   ]
  },
  {
   "cell_type": "code",
   "execution_count": 2,
   "id": "aa3a0096-217b-46eb-9105-ac69356e9290",
   "metadata": {},
   "outputs": [],
   "source": [
    "# api key for the header\n",
    "header = {'X-MAL-CLIENT-ID':key.api_key}"
   ]
  },
  {
   "cell_type": "code",
   "execution_count": 3,
   "id": "d1fee6f4-5b7e-4041-b4c3-8e3a4c0830f5",
   "metadata": {
    "scrolled": true,
    "tags": []
   },
   "outputs": [
    {
     "data": {
      "text/plain": [
       "{'data': [{'node': {'id': 52034,\n",
       "    'title': '\"Oshi no Ko\"',\n",
       "    'main_picture': {'medium': 'https://api-cdn.myanimelist.net/images/anime/1812/134736.jpg',\n",
       "     'large': 'https://api-cdn.myanimelist.net/images/anime/1812/134736l.jpg'},\n",
       "    'alternative_titles': {'synonyms': ['My Star'],\n",
       "     'en': '[Oshi No Ko]',\n",
       "     'ja': '【推しの子】'},\n",
       "    'start_date': '2023-04-12',\n",
       "    'synopsis': \"Sixteen-year-old Ai Hoshino is a talented and beautiful idol who is adored by her fans. She is the personification of a pure, young maiden. But all that glitters is not gold.\\n\\nGorou Amemiya is a countryside gynecologist and a big fan of Ai. So when the pregnant idol shows up at his hospital, he is beyond bewildered. Gorou promises her a safe delivery. Little does he know, an encounter with a mysterious figure would result in his untimely death—or so he thought.\\n\\nOpening his eyes in the lap of his beloved idol, Gorou finds that he has been reborn as Aquamarine Hoshino—Ai's newborn son! With his world turned upside down, Gorou soon learns that the world of showbiz is paved with thorns, where talent does not always beget success. Will he manage to protect Ai's smile that he loves so much with the help of an eccentric and unexpected ally? \\n\\n[Written by MAL Rewrite]\",\n",
       "    'mean': 9.33,\n",
       "    'rank': 1,\n",
       "    'popularity': 1211,\n",
       "    'num_list_users': 179740,\n",
       "    'num_scoring_users': 33046,\n",
       "    'nsfw': 'white',\n",
       "    'created_at': '2022-06-09T13:01:38+00:00',\n",
       "    'updated_at': '2023-04-12T22:10:51+00:00',\n",
       "    'media_type': 'tv',\n",
       "    'status': 'currently_airing',\n",
       "    'genres': [{'id': 8, 'name': 'Drama'},\n",
       "     {'id': 72, 'name': 'Reincarnation'},\n",
       "     {'id': 42, 'name': 'Seinen'},\n",
       "     {'id': 75, 'name': 'Showbiz'},\n",
       "     {'id': 37, 'name': 'Supernatural'}],\n",
       "    'num_episodes': 11,\n",
       "    'start_season': {'year': 2023, 'season': 'spring'},\n",
       "    'broadcast': {'day_of_the_week': 'wednesday', 'start_time': '23:00'},\n",
       "    'source': 'manga',\n",
       "    'average_episode_duration': 0,\n",
       "    'rating': 'r',\n",
       "    'studios': [{'id': 95, 'name': 'Doga Kobo'}]},\n",
       "   'ranking': {'rank': 1}},\n",
       "  {'node': {'id': 5114,\n",
       "    'title': 'Fullmetal Alchemist: Brotherhood',\n",
       "    'main_picture': {'medium': 'https://api-cdn.myanimelist.net/images/anime/1208/94745.jpg',\n",
       "     'large': 'https://api-cdn.myanimelist.net/images/anime/1208/94745l.jpg'},\n",
       "    'alternative_titles': {'synonyms': ['Hagane no Renkinjutsushi: Fullmetal Alchemist',\n",
       "      'Fullmetal Alchemist (2009)',\n",
       "      'FMA',\n",
       "      'FMAB'],\n",
       "     'en': 'Fullmetal Alchemist: Brotherhood',\n",
       "     'ja': '鋼の錬金術師 FULLMETAL ALCHEMIST'},\n",
       "    'start_date': '2009-04-05',\n",
       "    'end_date': '2010-07-04',\n",
       "    'synopsis': 'After a horrific alchemy experiment goes wrong in the Elric household, brothers Edward and Alphonse are left in a catastrophic new reality. Ignoring the alchemical principle banning human transmutation, the boys attempted to bring their recently deceased mother back to life. Instead, they suffered brutal personal loss: Alphonse\\'s body disintegrated while Edward lost a leg and then sacrificed an arm to keep Alphonse\\'s soul in the physical realm by binding it to a hulking suit of armor.\\n\\nThe brothers are rescued by their neighbor Pinako Rockbell and her granddaughter Winry. Known as a bio-mechanical engineering prodigy, Winry creates prosthetic limbs for Edward by utilizing \"automail,\" a tough, versatile metal used in robots and combat armor. After years of training, the Elric brothers set off on a quest to restore their bodies by locating the Philosopher\\'s Stone—a powerful gem that allows an alchemist to defy the traditional laws of Equivalent Exchange.\\n\\nAs Edward becomes an infamous alchemist and gains the nickname \"Fullmetal,\" the boys\\' journey embroils them in a growing conspiracy that threatens the fate of the world.\\n\\n[Written by MAL Rewrite]',\n",
       "    'mean': 9.11,\n",
       "    'rank': 2,\n",
       "    'popularity': 3,\n",
       "    'num_list_users': 3127618,\n",
       "    'num_scoring_users': 1987906,\n",
       "    'nsfw': 'white',\n",
       "    'created_at': '2008-08-21T03:35:22+00:00',\n",
       "    'updated_at': '2023-04-02T18:07:03+00:00',\n",
       "    'media_type': 'tv',\n",
       "    'status': 'finished_airing',\n",
       "    'genres': [{'id': 1, 'name': 'Action'},\n",
       "     {'id': 2, 'name': 'Adventure'},\n",
       "     {'id': 8, 'name': 'Drama'},\n",
       "     {'id': 10, 'name': 'Fantasy'},\n",
       "     {'id': 38, 'name': 'Military'},\n",
       "     {'id': 27, 'name': 'Shounen'}],\n",
       "    'num_episodes': 64,\n",
       "    'start_season': {'year': 2009, 'season': 'spring'},\n",
       "    'broadcast': {'day_of_the_week': 'sunday', 'start_time': '17:00'},\n",
       "    'source': 'manga',\n",
       "    'average_episode_duration': 1460,\n",
       "    'rating': 'r',\n",
       "    'studios': [{'id': 4, 'name': 'Bones'}]},\n",
       "   'ranking': {'rank': 2}}],\n",
       " 'paging': {'next': 'https://api.myanimelist.net/v2/anime/ranking?offset=2&ranking_type=all&limit=2&fields=id%2Ctitle%2Cmain_picture%2Calternative_titles%2Cstart_date%2Cend_date%2Csynopsis%2Cmean%2Crank%2Cpopularity%2Cnum_list_users%2Cnum_scoring_users%2Cnsfw%2Ccreated_at%2Cupdated_at%2Cmedia_type%2Cstatus%2Cgenres%2Cnum_episodes%2Cstart_season%2Cbroadcast%2Csource%2Caverage_episode_duration%2Crating%2Cstudios'}}"
      ]
     },
     "execution_count": 3,
     "metadata": {},
     "output_type": "execute_result"
    }
   ],
   "source": [
    "# example\n",
    "anime_response = requests.get('https://api.myanimelist.net/v2/anime/ranking?ranking_type=all&limit=2&fields=id,title,main_picture,alternative_titles,start_date,end_date,synopsis,mean,rank,popularity,num_list_users,num_scoring_users,nsfw,created_at,updated_at,media_type,status,genres,num_episodes,start_season,broadcast,source,average_episode_duration,rating,studios',  headers=header)\n",
    "anime_response_json = anime_response.json()\n",
    "anime_response_json"
   ]
  },
  {
   "cell_type": "code",
   "execution_count": 4,
   "id": "a3f9e564-0036-49b2-bea0-c75f0a3fc7ed",
   "metadata": {},
   "outputs": [
    {
     "name": "stdout",
     "output_type": "stream",
     "text": [
      "anime_list length: 20000\n"
     ]
    }
   ],
   "source": [
    "x = 0\n",
    "anime_list = []\n",
    "\n",
    "api_url = 'https://api.myanimelist.net/v2/anime/ranking?ranking_type=all&limit=500&fields=id,title,main_picture,alternative_titles,start_date,end_date,synopsis,mean,rank,popularity,num_list_users,num_scoring_users,nsfw,created_at,updated_at,media_type,status,genres,num_episodes,start_season,broadcast,source,average_episode_duration,rating,studios'\n",
    "\n",
    "while x < 20000:\n",
    "    anime_response_json = requests.get(api_url, headers=header).json()\n",
    "    for i in range(500):\n",
    "        anime_list.append(anime_response_json['data'][i])\n",
    "\n",
    "    api_url = anime_response_json['paging']['next']\n",
    "    x += 500\n",
    "\n",
    "print('anime_list length:', len(anime_list))"
   ]
  },
  {
   "cell_type": "code",
   "execution_count": 5,
   "id": "468a6f04-63a3-42ec-8371-3e4c04da38ad",
   "metadata": {},
   "outputs": [
    {
     "data": {
      "text/html": [
       "<div>\n",
       "<style scoped>\n",
       "    .dataframe tbody tr th:only-of-type {\n",
       "        vertical-align: middle;\n",
       "    }\n",
       "\n",
       "    .dataframe tbody tr th {\n",
       "        vertical-align: top;\n",
       "    }\n",
       "\n",
       "    .dataframe thead th {\n",
       "        text-align: right;\n",
       "    }\n",
       "</style>\n",
       "<table border=\"1\" class=\"dataframe\">\n",
       "  <thead>\n",
       "    <tr style=\"text-align: right;\">\n",
       "      <th></th>\n",
       "      <th>node</th>\n",
       "      <th>ranking</th>\n",
       "    </tr>\n",
       "  </thead>\n",
       "  <tbody>\n",
       "    <tr>\n",
       "      <th>0</th>\n",
       "      <td>{'id': 52034, 'title': '\"Oshi no Ko\"', 'main_p...</td>\n",
       "      <td>{'rank': 1}</td>\n",
       "    </tr>\n",
       "    <tr>\n",
       "      <th>1</th>\n",
       "      <td>{'id': 5114, 'title': 'Fullmetal Alchemist: Br...</td>\n",
       "      <td>{'rank': 2}</td>\n",
       "    </tr>\n",
       "    <tr>\n",
       "      <th>2</th>\n",
       "      <td>{'id': 51535, 'title': 'Shingeki no Kyojin: Th...</td>\n",
       "      <td>{'rank': 3}</td>\n",
       "    </tr>\n",
       "    <tr>\n",
       "      <th>3</th>\n",
       "      <td>{'id': 9253, 'title': 'Steins;Gate', 'main_pic...</td>\n",
       "      <td>{'rank': 4}</td>\n",
       "    </tr>\n",
       "    <tr>\n",
       "      <th>4</th>\n",
       "      <td>{'id': 41467, 'title': 'Bleach: Sennen Kessen-...</td>\n",
       "      <td>{'rank': 5}</td>\n",
       "    </tr>\n",
       "  </tbody>\n",
       "</table>\n",
       "</div>"
      ],
      "text/plain": [
       "                                                node      ranking\n",
       "0  {'id': 52034, 'title': '\"Oshi no Ko\"', 'main_p...  {'rank': 1}\n",
       "1  {'id': 5114, 'title': 'Fullmetal Alchemist: Br...  {'rank': 2}\n",
       "2  {'id': 51535, 'title': 'Shingeki no Kyojin: Th...  {'rank': 3}\n",
       "3  {'id': 9253, 'title': 'Steins;Gate', 'main_pic...  {'rank': 4}\n",
       "4  {'id': 41467, 'title': 'Bleach: Sennen Kessen-...  {'rank': 5}"
      ]
     },
     "execution_count": 5,
     "metadata": {},
     "output_type": "execute_result"
    }
   ],
   "source": [
    "df = pd.DataFrame(anime_list)\n",
    "df.head()"
   ]
  },
  {
   "cell_type": "code",
   "execution_count": 6,
   "id": "708c7268-d79d-49d3-a63b-76a49a726ae5",
   "metadata": {},
   "outputs": [
    {
     "data": {
      "text/html": [
       "<div>\n",
       "<style scoped>\n",
       "    .dataframe tbody tr th:only-of-type {\n",
       "        vertical-align: middle;\n",
       "    }\n",
       "\n",
       "    .dataframe tbody tr th {\n",
       "        vertical-align: top;\n",
       "    }\n",
       "\n",
       "    .dataframe thead th {\n",
       "        text-align: right;\n",
       "    }\n",
       "</style>\n",
       "<table border=\"1\" class=\"dataframe\">\n",
       "  <thead>\n",
       "    <tr style=\"text-align: right;\">\n",
       "      <th></th>\n",
       "      <th>ranking</th>\n",
       "      <th>id</th>\n",
       "      <th>title</th>\n",
       "      <th>start_date</th>\n",
       "      <th>synopsis</th>\n",
       "      <th>mean</th>\n",
       "      <th>rank</th>\n",
       "      <th>popularity</th>\n",
       "      <th>num_list_users</th>\n",
       "      <th>num_scoring_users</th>\n",
       "      <th>...</th>\n",
       "      <th>main_picture.medium</th>\n",
       "      <th>main_picture.large</th>\n",
       "      <th>alternative_titles.synonyms</th>\n",
       "      <th>alternative_titles.en</th>\n",
       "      <th>alternative_titles.ja</th>\n",
       "      <th>start_season.year</th>\n",
       "      <th>start_season.season</th>\n",
       "      <th>broadcast.day_of_the_week</th>\n",
       "      <th>broadcast.start_time</th>\n",
       "      <th>end_date</th>\n",
       "    </tr>\n",
       "  </thead>\n",
       "  <tbody>\n",
       "    <tr>\n",
       "      <th>0</th>\n",
       "      <td>{'rank': 1}</td>\n",
       "      <td>52034</td>\n",
       "      <td>\"Oshi no Ko\"</td>\n",
       "      <td>2023-04-12</td>\n",
       "      <td>Sixteen-year-old Ai Hoshino is a talented and ...</td>\n",
       "      <td>9.33</td>\n",
       "      <td>1</td>\n",
       "      <td>1211</td>\n",
       "      <td>179740</td>\n",
       "      <td>33046</td>\n",
       "      <td>...</td>\n",
       "      <td>https://api-cdn.myanimelist.net/images/anime/1...</td>\n",
       "      <td>https://api-cdn.myanimelist.net/images/anime/1...</td>\n",
       "      <td>[My Star]</td>\n",
       "      <td>[Oshi No Ko]</td>\n",
       "      <td>【推しの子】</td>\n",
       "      <td>2023.0</td>\n",
       "      <td>spring</td>\n",
       "      <td>wednesday</td>\n",
       "      <td>23:00</td>\n",
       "      <td>NaN</td>\n",
       "    </tr>\n",
       "    <tr>\n",
       "      <th>1</th>\n",
       "      <td>{'rank': 2}</td>\n",
       "      <td>5114</td>\n",
       "      <td>Fullmetal Alchemist: Brotherhood</td>\n",
       "      <td>2009-04-05</td>\n",
       "      <td>After a horrific alchemy experiment goes wrong...</td>\n",
       "      <td>9.11</td>\n",
       "      <td>2</td>\n",
       "      <td>3</td>\n",
       "      <td>3127618</td>\n",
       "      <td>1987906</td>\n",
       "      <td>...</td>\n",
       "      <td>https://api-cdn.myanimelist.net/images/anime/1...</td>\n",
       "      <td>https://api-cdn.myanimelist.net/images/anime/1...</td>\n",
       "      <td>[Hagane no Renkinjutsushi: Fullmetal Alchemist...</td>\n",
       "      <td>Fullmetal Alchemist: Brotherhood</td>\n",
       "      <td>鋼の錬金術師 FULLMETAL ALCHEMIST</td>\n",
       "      <td>2009.0</td>\n",
       "      <td>spring</td>\n",
       "      <td>sunday</td>\n",
       "      <td>17:00</td>\n",
       "      <td>2010-07-04</td>\n",
       "    </tr>\n",
       "    <tr>\n",
       "      <th>2</th>\n",
       "      <td>{'rank': 3}</td>\n",
       "      <td>51535</td>\n",
       "      <td>Shingeki no Kyojin: The Final Season - Kankets...</td>\n",
       "      <td>2023-03-04</td>\n",
       "      <td>In the wake of Eren Yeager's cataclysmic actio...</td>\n",
       "      <td>9.10</td>\n",
       "      <td>3</td>\n",
       "      <td>537</td>\n",
       "      <td>385728</td>\n",
       "      <td>124269</td>\n",
       "      <td>...</td>\n",
       "      <td>https://api-cdn.myanimelist.net/images/anime/1...</td>\n",
       "      <td>https://api-cdn.myanimelist.net/images/anime/1...</td>\n",
       "      <td>[Shingeki no Kyojin: The Final Season Part 3, ...</td>\n",
       "      <td>Attack on Titan: Final Season - The Final Chap...</td>\n",
       "      <td>進撃の巨人 The Final Season完結編</td>\n",
       "      <td>2023.0</td>\n",
       "      <td>winter</td>\n",
       "      <td>NaN</td>\n",
       "      <td>NaN</td>\n",
       "      <td>2023</td>\n",
       "    </tr>\n",
       "  </tbody>\n",
       "</table>\n",
       "<p>3 rows × 31 columns</p>\n",
       "</div>"
      ],
      "text/plain": [
       "       ranking     id                                              title  \\\n",
       "0  {'rank': 1}  52034                                       \"Oshi no Ko\"   \n",
       "1  {'rank': 2}   5114                   Fullmetal Alchemist: Brotherhood   \n",
       "2  {'rank': 3}  51535  Shingeki no Kyojin: The Final Season - Kankets...   \n",
       "\n",
       "   start_date                                           synopsis  mean  rank  \\\n",
       "0  2023-04-12  Sixteen-year-old Ai Hoshino is a talented and ...  9.33     1   \n",
       "1  2009-04-05  After a horrific alchemy experiment goes wrong...  9.11     2   \n",
       "2  2023-03-04  In the wake of Eren Yeager's cataclysmic actio...  9.10     3   \n",
       "\n",
       "   popularity  num_list_users  num_scoring_users  ...  \\\n",
       "0        1211          179740              33046  ...   \n",
       "1           3         3127618            1987906  ...   \n",
       "2         537          385728             124269  ...   \n",
       "\n",
       "                                 main_picture.medium  \\\n",
       "0  https://api-cdn.myanimelist.net/images/anime/1...   \n",
       "1  https://api-cdn.myanimelist.net/images/anime/1...   \n",
       "2  https://api-cdn.myanimelist.net/images/anime/1...   \n",
       "\n",
       "                                  main_picture.large  \\\n",
       "0  https://api-cdn.myanimelist.net/images/anime/1...   \n",
       "1  https://api-cdn.myanimelist.net/images/anime/1...   \n",
       "2  https://api-cdn.myanimelist.net/images/anime/1...   \n",
       "\n",
       "                         alternative_titles.synonyms  \\\n",
       "0                                          [My Star]   \n",
       "1  [Hagane no Renkinjutsushi: Fullmetal Alchemist...   \n",
       "2  [Shingeki no Kyojin: The Final Season Part 3, ...   \n",
       "\n",
       "                               alternative_titles.en  \\\n",
       "0                                       [Oshi No Ko]   \n",
       "1                   Fullmetal Alchemist: Brotherhood   \n",
       "2  Attack on Titan: Final Season - The Final Chap...   \n",
       "\n",
       "        alternative_titles.ja start_season.year  start_season.season  \\\n",
       "0                      【推しの子】            2023.0               spring   \n",
       "1  鋼の錬金術師 FULLMETAL ALCHEMIST            2009.0               spring   \n",
       "2   進撃の巨人 The Final Season完結編            2023.0               winter   \n",
       "\n",
       "  broadcast.day_of_the_week  broadcast.start_time    end_date  \n",
       "0                 wednesday                 23:00         NaN  \n",
       "1                    sunday                 17:00  2010-07-04  \n",
       "2                       NaN                   NaN        2023  \n",
       "\n",
       "[3 rows x 31 columns]"
      ]
     },
     "execution_count": 6,
     "metadata": {},
     "output_type": "execute_result"
    }
   ],
   "source": [
    "df = df.join(pd.json_normalize(df.pop('node')))\n",
    "df.head(3)"
   ]
  },
  {
   "cell_type": "code",
   "execution_count": 7,
   "id": "05acd6fb-a6e7-4101-a577-8bb52e02c35d",
   "metadata": {},
   "outputs": [],
   "source": [
    "df.set_index('id', inplace=True)"
   ]
  },
  {
   "cell_type": "code",
   "execution_count": 8,
   "id": "cddb833f-5a60-4503-8678-237c366b0376",
   "metadata": {},
   "outputs": [
    {
     "data": {
      "text/plain": [
       "(20000, 30)"
      ]
     },
     "execution_count": 8,
     "metadata": {},
     "output_type": "execute_result"
    }
   ],
   "source": [
    "df.shape"
   ]
  },
  {
   "cell_type": "code",
   "execution_count": 9,
   "id": "0b6040cf-fdfe-428e-b718-5d71d7cac9f3",
   "metadata": {
    "tags": []
   },
   "outputs": [],
   "source": [
    "df.to_csv('data/anime_data.csv', index=False)"
   ]
  }
 ],
 "metadata": {
  "kernelspec": {
   "display_name": "anime-recommendation",
   "language": "python",
   "name": "anime-recommendation"
  },
  "language_info": {
   "codemirror_mode": {
    "name": "ipython",
    "version": 3
   },
   "file_extension": ".py",
   "mimetype": "text/x-python",
   "name": "python",
   "nbconvert_exporter": "python",
   "pygments_lexer": "ipython3",
   "version": "3.11.2"
  }
 },
 "nbformat": 4,
 "nbformat_minor": 5
}
