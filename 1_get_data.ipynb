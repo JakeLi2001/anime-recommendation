{
 "cells": [
  {
   "cell_type": "code",
   "execution_count": 1,
   "id": "3335890b-bfd0-4e4e-8e48-ab0ec9d8690a",
   "metadata": {
    "tags": []
   },
   "outputs": [],
   "source": [
    "import requests\n",
    "import key\n",
    "import pandas as pd\n",
    "import time"
   ]
  },
  {
   "cell_type": "markdown",
   "id": "fde207a9-9fcf-45cb-8f81-ad31041de955",
   "metadata": {},
   "source": [
    "# Get anime list"
   ]
  },
  {
   "cell_type": "code",
   "execution_count": 2,
   "id": "dd6dc4a2-daa0-4b50-b2ed-7fc20a0a1853",
   "metadata": {
    "tags": []
   },
   "outputs": [],
   "source": [
    "# api key for the header\n",
    "header = {'X-MAL-CLIENT-ID': key.api_key}"
   ]
  },
  {
   "cell_type": "code",
   "execution_count": 3,
   "id": "b634a57b-a0dd-48f8-a4ae-4c90fa7078ed",
   "metadata": {
    "tags": []
   },
   "outputs": [
    {
     "data": {
      "text/plain": [
       "{'data': [{'node': {'id': 51535,\n",
       "    'title': 'Shingeki no Kyojin: The Final Season - Kanketsu-hen',\n",
       "    'main_picture': {'medium': 'https://api-cdn.myanimelist.net/images/anime/1279/131078.jpg',\n",
       "     'large': 'https://api-cdn.myanimelist.net/images/anime/1279/131078l.jpg'}},\n",
       "   'ranking': {'rank': 1}},\n",
       "  {'node': {'id': 5114,\n",
       "    'title': 'Fullmetal Alchemist: Brotherhood',\n",
       "    'main_picture': {'medium': 'https://api-cdn.myanimelist.net/images/anime/1208/94745.jpg',\n",
       "     'large': 'https://api-cdn.myanimelist.net/images/anime/1208/94745l.jpg'}},\n",
       "   'ranking': {'rank': 2}}],\n",
       " 'paging': {'next': 'https://api.myanimelist.net/v2/anime/ranking?offset=2&ranking_type=all&limit=2'}}"
      ]
     },
     "execution_count": 3,
     "metadata": {},
     "output_type": "execute_result"
    }
   ],
   "source": [
    "# example\n",
    "anime_response = requests.get(\"https://api.myanimelist.net/v2/anime/ranking?ranking_type=all&limit=2\",  headers = header)\n",
    "anime_response_json = anime_response.json()\n",
    "anime_response_json"
   ]
  },
  {
   "cell_type": "code",
   "execution_count": 4,
   "id": "4b1a686d-f5f5-4d48-9af5-f7b9fea5983f",
   "metadata": {
    "tags": []
   },
   "outputs": [
    {
     "name": "stdout",
     "output_type": "stream",
     "text": [
      "idx_list length: 10000\n",
      "title_list length: 10000\n",
      "pic_list length: 10000\n"
     ]
    }
   ],
   "source": [
    "x = 0\n",
    "idx_list = []\n",
    "title_list = []\n",
    "pic_list = []\n",
    "api_url = \"https://api.myanimelist.net/v2/anime/ranking?ranking_type=all&limit=500\"\n",
    "\n",
    "while x < 10000:\n",
    "    anime_response_json = requests.get(api_url, headers=header).json()\n",
    "    for i in range(500):\n",
    "        idx_list.append(anime_response_json['data'][i]['node']['id'])\n",
    "        title_list.append(anime_response_json['data'][i]['node']['title'])\n",
    "        pic_list.append(anime_response_json['data'][i]['node']['main_picture']['medium'])\n",
    "    api_url = anime_response_json['paging']['next']\n",
    "    x += 500\n",
    "\n",
    "print('idx_list length:', len(idx_list))\n",
    "print('title_list length:', len(title_list))\n",
    "print('pic_list length:', len(pic_list))"
   ]
  },
  {
   "cell_type": "code",
   "execution_count": 5,
   "id": "55054d95-f98b-4f52-9f39-a77db59de346",
   "metadata": {
    "tags": []
   },
   "outputs": [
    {
     "data": {
      "text/html": [
       "<div>\n",
       "<style scoped>\n",
       "    .dataframe tbody tr th:only-of-type {\n",
       "        vertical-align: middle;\n",
       "    }\n",
       "\n",
       "    .dataframe tbody tr th {\n",
       "        vertical-align: top;\n",
       "    }\n",
       "\n",
       "    .dataframe thead th {\n",
       "        text-align: right;\n",
       "    }\n",
       "</style>\n",
       "<table border=\"1\" class=\"dataframe\">\n",
       "  <thead>\n",
       "    <tr style=\"text-align: right;\">\n",
       "      <th></th>\n",
       "      <th>id</th>\n",
       "      <th>title</th>\n",
       "      <th>picture_url</th>\n",
       "    </tr>\n",
       "  </thead>\n",
       "  <tbody>\n",
       "    <tr>\n",
       "      <th>0</th>\n",
       "      <td>51535</td>\n",
       "      <td>Shingeki no Kyojin: The Final Season - Kankets...</td>\n",
       "      <td>https://api-cdn.myanimelist.net/images/anime/1...</td>\n",
       "    </tr>\n",
       "    <tr>\n",
       "      <th>1</th>\n",
       "      <td>5114</td>\n",
       "      <td>Fullmetal Alchemist: Brotherhood</td>\n",
       "      <td>https://api-cdn.myanimelist.net/images/anime/1...</td>\n",
       "    </tr>\n",
       "    <tr>\n",
       "      <th>2</th>\n",
       "      <td>41467</td>\n",
       "      <td>Bleach: Sennen Kessen-hen</td>\n",
       "      <td>https://api-cdn.myanimelist.net/images/anime/1...</td>\n",
       "    </tr>\n",
       "    <tr>\n",
       "      <th>3</th>\n",
       "      <td>9253</td>\n",
       "      <td>Steins;Gate</td>\n",
       "      <td>https://api-cdn.myanimelist.net/images/anime/1...</td>\n",
       "    </tr>\n",
       "    <tr>\n",
       "      <th>4</th>\n",
       "      <td>28977</td>\n",
       "      <td>Gintama°</td>\n",
       "      <td>https://api-cdn.myanimelist.net/images/anime/3...</td>\n",
       "    </tr>\n",
       "  </tbody>\n",
       "</table>\n",
       "</div>"
      ],
      "text/plain": [
       "      id                                              title  \\\n",
       "0  51535  Shingeki no Kyojin: The Final Season - Kankets...   \n",
       "1   5114                   Fullmetal Alchemist: Brotherhood   \n",
       "2  41467                          Bleach: Sennen Kessen-hen   \n",
       "3   9253                                        Steins;Gate   \n",
       "4  28977                                           Gintama°   \n",
       "\n",
       "                                         picture_url  \n",
       "0  https://api-cdn.myanimelist.net/images/anime/1...  \n",
       "1  https://api-cdn.myanimelist.net/images/anime/1...  \n",
       "2  https://api-cdn.myanimelist.net/images/anime/1...  \n",
       "3  https://api-cdn.myanimelist.net/images/anime/1...  \n",
       "4  https://api-cdn.myanimelist.net/images/anime/3...  "
      ]
     },
     "execution_count": 5,
     "metadata": {},
     "output_type": "execute_result"
    }
   ],
   "source": [
    "anime_df = pd.DataFrame(data={'id':idx_list, 'title':title_list, 'picture_url':pic_list })\n",
    "anime_df.head()"
   ]
  },
  {
   "cell_type": "code",
   "execution_count": 6,
   "id": "8bc3eebe-b8ba-4df9-8c78-b657f2f4d626",
   "metadata": {
    "tags": []
   },
   "outputs": [
    {
     "data": {
      "text/plain": [
       "False    10000\n",
       "dtype: int64"
      ]
     },
     "execution_count": 6,
     "metadata": {},
     "output_type": "execute_result"
    }
   ],
   "source": [
    "# check for duplicates\n",
    "anime_df.duplicated().value_counts()"
   ]
  },
  {
   "cell_type": "code",
   "execution_count": 7,
   "id": "372f3874-d8b3-44c5-aca1-6f6c96fac324",
   "metadata": {
    "tags": []
   },
   "outputs": [],
   "source": [
    "# anime_df.to_csv('data/anime_df.csv', index=False)"
   ]
  },
  {
   "cell_type": "markdown",
   "id": "502df058-b1d4-45a5-9edc-fd1d91074abe",
   "metadata": {},
   "source": [
    "# Get anime details"
   ]
  },
  {
   "cell_type": "code",
   "execution_count": 8,
   "id": "a50929b8-0fc8-47af-a67d-ce761d6c950c",
   "metadata": {},
   "outputs": [],
   "source": [
    "# list of fiedls available for getting anime details\n",
    "# id,title,main_picture,alternative_titles,start_date,end_date,synopsis,mean,rank,popularity,num_list_users,num_scoring_users,\n",
    "# nsfw,created_at,updated_at,media_type,status,genres,my_list_status,num_episodes,start_season,broadcast,source,\n",
    "# average_episode_duration,rating,pictures,background,related_anime,related_manga,recommendations,studios,statistics"
   ]
  },
  {
   "cell_type": "code",
   "execution_count": 9,
   "id": "cf84c4df-b373-4aa8-876d-32afcccc8b97",
   "metadata": {
    "tags": []
   },
   "outputs": [
    {
     "data": {
      "text/plain": [
       "{'id': 51535,\n",
       " 'title': 'Shingeki no Kyojin: The Final Season - Kanketsu-hen',\n",
       " 'main_picture': {'medium': 'https://api-cdn.myanimelist.net/images/anime/1279/131078.jpg',\n",
       "  'large': 'https://api-cdn.myanimelist.net/images/anime/1279/131078l.jpg'},\n",
       " 'start_date': '2023-03-04',\n",
       " 'alternative_titles': {'synonyms': ['Shingeki no Kyojin: The Final Season Part 3',\n",
       "   'Shingeki no Kyojin Season 4',\n",
       "   'Attack on Titan Season 4'],\n",
       "  'en': 'Attack on Titan: Final Season - The Final Chapters',\n",
       "  'ja': '進撃の巨人 The Final Season完結編'},\n",
       " 'synopsis': 'The conclusion to Shingeki no Kyojin.',\n",
       " 'nsfw': 'white',\n",
       " 'media_type': 'special',\n",
       " 'genres': [{'id': 1, 'name': 'Action'},\n",
       "  {'id': 8, 'name': 'Drama'},\n",
       "  {'id': 58, 'name': 'Gore'},\n",
       "  {'id': 38, 'name': 'Military'},\n",
       "  {'id': 27, 'name': 'Shounen'},\n",
       "  {'id': 76, 'name': 'Survival'},\n",
       "  {'id': 41, 'name': 'Suspense'}],\n",
       " 'source': 'manga',\n",
       " 'studios': [{'id': 569, 'name': 'MAPPA'}]}"
      ]
     },
     "execution_count": 9,
     "metadata": {},
     "output_type": "execute_result"
    }
   ],
   "source": [
    "# example\n",
    "details_response = requests.get('https://api.myanimelist.net/v2/anime/51535?fields=start_date,id,title,alternative_titles,synopsis,nsfw,media_type,genres,source,studios', headers=header)\n",
    "details_response_json = details_response.json()\n",
    "details_response_json"
   ]
  },
  {
   "cell_type": "code",
   "execution_count": null,
   "id": "3afb031a-3918-4081-89fa-9ab3beea24ea",
   "metadata": {
    "scrolled": true,
    "tags": []
   },
   "outputs": [],
   "source": [
    "anime_details_list = []\n",
    "\n",
    "# Try the following loop first. If failed due to json decoder error or server busy error, then try the next loop.\n",
    "for x in idx_list:\n",
    "    api_url = f'https://api.myanimelist.net/v2/anime/{x}?fields=id,alternative_titles,synopsis,nsfw,media_type,genres,source,studios'\n",
    "    anime_details_list.append(requests.get(api_url, headers=header).json())\n",
    "    time.sleep(0.5)\n",
    "\n",
    "# Second way, will work but will take about 3 hours.\n",
    "# for i in range(0, 10000, 400):\n",
    "#     for x in idx_list[i:i+400]:\n",
    "#         api_url = f'https://api.myanimelist.net/v2/anime/{x}?fields=id,alternative_titles,synopsis,nsfw,media_type,genres,source,studios'\n",
    "#         anime_details_list.append(requests.get(api_url, headers=header).json())\n",
    "#     time.sleep(180)\n",
    "\n",
    "print('anime_details_list length:', len(anime_details_list))"
   ]
  },
  {
   "cell_type": "code",
   "execution_count": 15,
   "id": "4270d6a6-3f14-4004-8a4a-54678a9e8d12",
   "metadata": {
    "tags": []
   },
   "outputs": [
    {
     "name": "stdout",
     "output_type": "stream",
     "text": [
      "anime_details_list length: 6641\n"
     ]
    }
   ],
   "source": [
    "print('anime_details_list length:', len(anime_details_list))"
   ]
  },
  {
   "cell_type": "code",
   "execution_count": 16,
   "id": "2c05f925-4c2f-4a0a-9051-b3ca8c648000",
   "metadata": {
    "tags": []
   },
   "outputs": [
    {
     "data": {
      "text/html": [
       "<div>\n",
       "<style scoped>\n",
       "    .dataframe tbody tr th:only-of-type {\n",
       "        vertical-align: middle;\n",
       "    }\n",
       "\n",
       "    .dataframe tbody tr th {\n",
       "        vertical-align: top;\n",
       "    }\n",
       "\n",
       "    .dataframe thead th {\n",
       "        text-align: right;\n",
       "    }\n",
       "</style>\n",
       "<table border=\"1\" class=\"dataframe\">\n",
       "  <thead>\n",
       "    <tr style=\"text-align: right;\">\n",
       "      <th></th>\n",
       "      <th>id</th>\n",
       "      <th>alternative_titles</th>\n",
       "      <th>synopsis</th>\n",
       "      <th>nsfw</th>\n",
       "      <th>media_type</th>\n",
       "      <th>genres</th>\n",
       "      <th>source</th>\n",
       "      <th>studios</th>\n",
       "    </tr>\n",
       "  </thead>\n",
       "  <tbody>\n",
       "    <tr>\n",
       "      <th>0</th>\n",
       "      <td>51535</td>\n",
       "      <td>{'synonyms': ['Shingeki no Kyojin: The Final S...</td>\n",
       "      <td>The conclusion to Shingeki no Kyojin.</td>\n",
       "      <td>white</td>\n",
       "      <td>special</td>\n",
       "      <td>[{'id': 1, 'name': 'Action'}, {'id': 8, 'name'...</td>\n",
       "      <td>manga</td>\n",
       "      <td>[{'id': 569, 'name': 'MAPPA'}]</td>\n",
       "    </tr>\n",
       "    <tr>\n",
       "      <th>1</th>\n",
       "      <td>5114</td>\n",
       "      <td>{'synonyms': ['Hagane no Renkinjutsushi: Fullm...</td>\n",
       "      <td>After a horrific alchemy experiment goes wrong...</td>\n",
       "      <td>white</td>\n",
       "      <td>tv</td>\n",
       "      <td>[{'id': 1, 'name': 'Action'}, {'id': 2, 'name'...</td>\n",
       "      <td>manga</td>\n",
       "      <td>[{'id': 4, 'name': 'Bones'}]</td>\n",
       "    </tr>\n",
       "    <tr>\n",
       "      <th>2</th>\n",
       "      <td>41467</td>\n",
       "      <td>{'synonyms': ['Bleach: Thousand-Year Blood War...</td>\n",
       "      <td>Substitute Soul Reaper Ichigo Kurosaki spends ...</td>\n",
       "      <td>white</td>\n",
       "      <td>tv</td>\n",
       "      <td>[{'id': 1, 'name': 'Action'}, {'id': 2, 'name'...</td>\n",
       "      <td>manga</td>\n",
       "      <td>[{'id': 1, 'name': 'Pierrot'}]</td>\n",
       "    </tr>\n",
       "    <tr>\n",
       "      <th>3</th>\n",
       "      <td>9253</td>\n",
       "      <td>{'synonyms': [], 'en': 'Steins;Gate', 'ja': 'S...</td>\n",
       "      <td>Eccentric scientist Rintarou Okabe has a never...</td>\n",
       "      <td>white</td>\n",
       "      <td>tv</td>\n",
       "      <td>[{'id': 8, 'name': 'Drama'}, {'id': 40, 'name'...</td>\n",
       "      <td>visual_novel</td>\n",
       "      <td>[{'id': 314, 'name': 'White Fox'}]</td>\n",
       "    </tr>\n",
       "    <tr>\n",
       "      <th>4</th>\n",
       "      <td>28977</td>\n",
       "      <td>{'synonyms': ['Gintama' (2015)'], 'en': 'Ginta...</td>\n",
       "      <td>Gintoki, Shinpachi, and Kagura return as the f...</td>\n",
       "      <td>white</td>\n",
       "      <td>tv</td>\n",
       "      <td>[{'id': 1, 'name': 'Action'}, {'id': 4, 'name'...</td>\n",
       "      <td>manga</td>\n",
       "      <td>[{'id': 1258, 'name': 'Bandai Namco Pictures'}]</td>\n",
       "    </tr>\n",
       "  </tbody>\n",
       "</table>\n",
       "</div>"
      ],
      "text/plain": [
       "      id                                 alternative_titles  \\\n",
       "0  51535  {'synonyms': ['Shingeki no Kyojin: The Final S...   \n",
       "1   5114  {'synonyms': ['Hagane no Renkinjutsushi: Fullm...   \n",
       "2  41467  {'synonyms': ['Bleach: Thousand-Year Blood War...   \n",
       "3   9253  {'synonyms': [], 'en': 'Steins;Gate', 'ja': 'S...   \n",
       "4  28977  {'synonyms': ['Gintama' (2015)'], 'en': 'Ginta...   \n",
       "\n",
       "                                            synopsis   nsfw media_type  \\\n",
       "0              The conclusion to Shingeki no Kyojin.  white    special   \n",
       "1  After a horrific alchemy experiment goes wrong...  white         tv   \n",
       "2  Substitute Soul Reaper Ichigo Kurosaki spends ...  white         tv   \n",
       "3  Eccentric scientist Rintarou Okabe has a never...  white         tv   \n",
       "4  Gintoki, Shinpachi, and Kagura return as the f...  white         tv   \n",
       "\n",
       "                                              genres        source  \\\n",
       "0  [{'id': 1, 'name': 'Action'}, {'id': 8, 'name'...         manga   \n",
       "1  [{'id': 1, 'name': 'Action'}, {'id': 2, 'name'...         manga   \n",
       "2  [{'id': 1, 'name': 'Action'}, {'id': 2, 'name'...         manga   \n",
       "3  [{'id': 8, 'name': 'Drama'}, {'id': 40, 'name'...  visual_novel   \n",
       "4  [{'id': 1, 'name': 'Action'}, {'id': 4, 'name'...         manga   \n",
       "\n",
       "                                           studios  \n",
       "0                   [{'id': 569, 'name': 'MAPPA'}]  \n",
       "1                     [{'id': 4, 'name': 'Bones'}]  \n",
       "2                   [{'id': 1, 'name': 'Pierrot'}]  \n",
       "3               [{'id': 314, 'name': 'White Fox'}]  \n",
       "4  [{'id': 1258, 'name': 'Bandai Namco Pictures'}]  "
      ]
     },
     "execution_count": 16,
     "metadata": {},
     "output_type": "execute_result"
    }
   ],
   "source": [
    "anime_details_df = pd.DataFrame(anime_details_list)\n",
    "anime_details_df.drop(['title', 'main_picture'], axis=1, inplace=True)\n",
    "anime_details_df.head()"
   ]
  },
  {
   "cell_type": "code",
   "execution_count": null,
   "id": "eb853a54-b7df-4cc2-bb72-21dd071c2b11",
   "metadata": {
    "tags": []
   },
   "outputs": [],
   "source": [
    "anime_details_df['id'].duplicated().value_counts()"
   ]
  },
  {
   "cell_type": "code",
   "execution_count": null,
   "id": "35ed32ed-15c0-448c-a879-5bc37191cf87",
   "metadata": {},
   "outputs": [],
   "source": [
    "# anime_details_df.to_csv('data/anime_details_df.csv', index=False)"
   ]
  }
 ],
 "metadata": {
  "kernelspec": {
   "display_name": "anime-recommendation",
   "language": "python",
   "name": "anime-recommendation"
  },
  "language_info": {
   "codemirror_mode": {
    "name": "ipython",
    "version": 3
   },
   "file_extension": ".py",
   "mimetype": "text/x-python",
   "name": "python",
   "nbconvert_exporter": "python",
   "pygments_lexer": "ipython3",
   "version": "3.11.2"
  }
 },
 "nbformat": 4,
 "nbformat_minor": 5
}
