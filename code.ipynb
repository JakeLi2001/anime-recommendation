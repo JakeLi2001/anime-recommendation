{
 "cells": [
  {
   "cell_type": "code",
   "execution_count": 1,
   "id": "3335890b-bfd0-4e4e-8e48-ab0ec9d8690a",
   "metadata": {
    "tags": []
   },
   "outputs": [],
   "source": [
    "import requests\n",
    "import key\n",
    "import pandas as pd"
   ]
  },
  {
   "cell_type": "code",
   "execution_count": 14,
   "id": "dd6dc4a2-daa0-4b50-b2ed-7fc20a0a1853",
   "metadata": {
    "tags": []
   },
   "outputs": [],
   "source": [
    "header = {'X-MAL-CLIENT-ID': key.api_key}\n",
    "# response = requests.get(\"https://api.myanimelist.net/v2/anime?\",  headers = header)\n",
    "# response = requests.get(\"https://api.myanimelist.net/v2/anime/10456\",  headers = header)\n",
    "response = requests.get(\"https://api.myanimelist.net/v2/anime/ranking?ranking_type=all&limit=5\",  headers = header)"
   ]
  },
  {
   "cell_type": "code",
   "execution_count": 15,
   "id": "b634a57b-a0dd-48f8-a4ae-4c90fa7078ed",
   "metadata": {
    "tags": []
   },
   "outputs": [],
   "source": [
    "data_json = response.json()"
   ]
  },
  {
   "cell_type": "code",
   "execution_count": 4,
   "id": "176ad7fc-4752-4a7a-80b2-23884cb8c330",
   "metadata": {},
   "outputs": [
    {
     "data": {
      "text/plain": [
       "{'data': [{'node': {'id': 51535,\n",
       "    'title': 'Shingeki no Kyojin: The Final Season - Kanketsu-hen',\n",
       "    'main_picture': {'medium': 'https://api-cdn.myanimelist.net/images/anime/1279/131078.jpg',\n",
       "     'large': 'https://api-cdn.myanimelist.net/images/anime/1279/131078l.jpg'}},\n",
       "   'ranking': {'rank': 1}},\n",
       "  {'node': {'id': 5114,\n",
       "    'title': 'Fullmetal Alchemist: Brotherhood',\n",
       "    'main_picture': {'medium': 'https://api-cdn.myanimelist.net/images/anime/1208/94745.jpg',\n",
       "     'large': 'https://api-cdn.myanimelist.net/images/anime/1208/94745l.jpg'}},\n",
       "   'ranking': {'rank': 2}},\n",
       "  {'node': {'id': 41467,\n",
       "    'title': 'Bleach: Sennen Kessen-hen',\n",
       "    'main_picture': {'medium': 'https://api-cdn.myanimelist.net/images/anime/1764/126627.jpg',\n",
       "     'large': 'https://api-cdn.myanimelist.net/images/anime/1764/126627l.jpg'}},\n",
       "   'ranking': {'rank': 3}},\n",
       "  {'node': {'id': 9253,\n",
       "    'title': 'Steins;Gate',\n",
       "    'main_picture': {'medium': 'https://api-cdn.myanimelist.net/images/anime/1935/127974.jpg',\n",
       "     'large': 'https://api-cdn.myanimelist.net/images/anime/1935/127974l.jpg'}},\n",
       "   'ranking': {'rank': 4}},\n",
       "  {'node': {'id': 28977,\n",
       "    'title': 'Gintama°',\n",
       "    'main_picture': {'medium': 'https://api-cdn.myanimelist.net/images/anime/3/72078.jpg',\n",
       "     'large': 'https://api-cdn.myanimelist.net/images/anime/3/72078l.jpg'}},\n",
       "   'ranking': {'rank': 5}}],\n",
       " 'paging': {'next': 'https://api.myanimelist.net/v2/anime/ranking?offset=5&ranking_type=all&limit=5'}}"
      ]
     },
     "execution_count": 4,
     "metadata": {},
     "output_type": "execute_result"
    }
   ],
   "source": [
    "# use paging in for loop\n",
    "data_json"
   ]
  },
  {
   "cell_type": "code",
   "execution_count": 13,
   "id": "094203dc-4457-4ee9-adb2-9ff0c3d628fc",
   "metadata": {
    "tags": []
   },
   "outputs": [
    {
     "data": {
      "text/plain": [
       "51535"
      ]
     },
     "execution_count": 13,
     "metadata": {},
     "output_type": "execute_result"
    }
   ],
   "source": [
    "data_json['data'][0]['node']['id']"
   ]
  },
  {
   "cell_type": "code",
   "execution_count": 6,
   "id": "db2483c7-5c42-4d06-8bad-d8e6e66c8e0c",
   "metadata": {
    "tags": []
   },
   "outputs": [
    {
     "data": {
      "text/plain": [
       "[{'node': {'id': 51535,\n",
       "   'title': 'Shingeki no Kyojin: The Final Season - Kanketsu-hen',\n",
       "   'main_picture': {'medium': 'https://api-cdn.myanimelist.net/images/anime/1279/131078.jpg',\n",
       "    'large': 'https://api-cdn.myanimelist.net/images/anime/1279/131078l.jpg'}},\n",
       "  'ranking': {'rank': 1}},\n",
       " {'node': {'id': 5114,\n",
       "   'title': 'Fullmetal Alchemist: Brotherhood',\n",
       "   'main_picture': {'medium': 'https://api-cdn.myanimelist.net/images/anime/1208/94745.jpg',\n",
       "    'large': 'https://api-cdn.myanimelist.net/images/anime/1208/94745l.jpg'}},\n",
       "  'ranking': {'rank': 2}},\n",
       " {'node': {'id': 41467,\n",
       "   'title': 'Bleach: Sennen Kessen-hen',\n",
       "   'main_picture': {'medium': 'https://api-cdn.myanimelist.net/images/anime/1764/126627.jpg',\n",
       "    'large': 'https://api-cdn.myanimelist.net/images/anime/1764/126627l.jpg'}},\n",
       "  'ranking': {'rank': 3}},\n",
       " {'node': {'id': 9253,\n",
       "   'title': 'Steins;Gate',\n",
       "   'main_picture': {'medium': 'https://api-cdn.myanimelist.net/images/anime/1935/127974.jpg',\n",
       "    'large': 'https://api-cdn.myanimelist.net/images/anime/1935/127974l.jpg'}},\n",
       "  'ranking': {'rank': 4}},\n",
       " {'node': {'id': 28977,\n",
       "   'title': 'Gintama°',\n",
       "   'main_picture': {'medium': 'https://api-cdn.myanimelist.net/images/anime/3/72078.jpg',\n",
       "    'large': 'https://api-cdn.myanimelist.net/images/anime/3/72078l.jpg'}},\n",
       "  'ranking': {'rank': 5}}]"
      ]
     },
     "execution_count": 6,
     "metadata": {},
     "output_type": "execute_result"
    }
   ],
   "source": [
    "data_json['data']"
   ]
  },
  {
   "cell_type": "code",
   "execution_count": null,
   "id": "51840c89-c215-4e83-93d1-c52ac29153c0",
   "metadata": {},
   "outputs": [],
   "source": []
  },
  {
   "cell_type": "code",
   "execution_count": 7,
   "id": "3d75572a-31e7-445a-9560-b40ad0a3a112",
   "metadata": {
    "tags": []
   },
   "outputs": [
    {
     "data": {
      "text/html": [
       "<div>\n",
       "<style scoped>\n",
       "    .dataframe tbody tr th:only-of-type {\n",
       "        vertical-align: middle;\n",
       "    }\n",
       "\n",
       "    .dataframe tbody tr th {\n",
       "        vertical-align: top;\n",
       "    }\n",
       "\n",
       "    .dataframe thead th {\n",
       "        text-align: right;\n",
       "    }\n",
       "</style>\n",
       "<table border=\"1\" class=\"dataframe\">\n",
       "  <thead>\n",
       "    <tr style=\"text-align: right;\">\n",
       "      <th></th>\n",
       "      <th>node</th>\n",
       "      <th>ranking</th>\n",
       "    </tr>\n",
       "  </thead>\n",
       "  <tbody>\n",
       "    <tr>\n",
       "      <th>0</th>\n",
       "      <td>{'id': 51535, 'title': 'Shingeki no Kyojin: Th...</td>\n",
       "      <td>{'rank': 1}</td>\n",
       "    </tr>\n",
       "    <tr>\n",
       "      <th>1</th>\n",
       "      <td>{'id': 5114, 'title': 'Fullmetal Alchemist: Br...</td>\n",
       "      <td>{'rank': 2}</td>\n",
       "    </tr>\n",
       "    <tr>\n",
       "      <th>2</th>\n",
       "      <td>{'id': 41467, 'title': 'Bleach: Sennen Kessen-...</td>\n",
       "      <td>{'rank': 3}</td>\n",
       "    </tr>\n",
       "    <tr>\n",
       "      <th>3</th>\n",
       "      <td>{'id': 9253, 'title': 'Steins;Gate', 'main_pic...</td>\n",
       "      <td>{'rank': 4}</td>\n",
       "    </tr>\n",
       "    <tr>\n",
       "      <th>4</th>\n",
       "      <td>{'id': 28977, 'title': 'Gintama°', 'main_pictu...</td>\n",
       "      <td>{'rank': 5}</td>\n",
       "    </tr>\n",
       "  </tbody>\n",
       "</table>\n",
       "</div>"
      ],
      "text/plain": [
       "                                                node      ranking\n",
       "0  {'id': 51535, 'title': 'Shingeki no Kyojin: Th...  {'rank': 1}\n",
       "1  {'id': 5114, 'title': 'Fullmetal Alchemist: Br...  {'rank': 2}\n",
       "2  {'id': 41467, 'title': 'Bleach: Sennen Kessen-...  {'rank': 3}\n",
       "3  {'id': 9253, 'title': 'Steins;Gate', 'main_pic...  {'rank': 4}\n",
       "4  {'id': 28977, 'title': 'Gintama°', 'main_pictu...  {'rank': 5}"
      ]
     },
     "execution_count": 7,
     "metadata": {},
     "output_type": "execute_result"
    }
   ],
   "source": [
    "pd.DataFrame.from_dict(data_json['data']) "
   ]
  },
  {
   "cell_type": "code",
   "execution_count": 16,
   "id": "4b1a686d-f5f5-4d48-9af5-f7b9fea5983f",
   "metadata": {},
   "outputs": [
    {
     "name": "stdout",
     "output_type": "stream",
     "text": [
      "0\n",
      "1\n",
      "2\n",
      "3\n",
      "4\n",
      "5\n",
      "6\n",
      "7\n",
      "8\n",
      "9\n",
      "10\n",
      "11\n",
      "12\n",
      "13\n",
      "14\n",
      "15\n",
      "16\n",
      "17\n",
      "18\n",
      "19\n",
      "20\n",
      "21\n",
      "22\n",
      "23\n",
      "24\n",
      "25\n",
      "26\n",
      "27\n",
      "28\n",
      "29\n",
      "30\n",
      "31\n",
      "32\n",
      "33\n",
      "34\n",
      "35\n",
      "36\n",
      "37\n",
      "38\n",
      "39\n",
      "40\n",
      "41\n",
      "42\n",
      "43\n",
      "44\n",
      "45\n",
      "46\n",
      "47\n",
      "48\n",
      "49\n",
      "50\n",
      "51\n",
      "52\n",
      "53\n",
      "54\n",
      "55\n",
      "56\n",
      "57\n",
      "58\n",
      "59\n",
      "60\n",
      "61\n",
      "62\n",
      "63\n",
      "64\n",
      "65\n",
      "66\n",
      "67\n",
      "68\n",
      "69\n",
      "70\n",
      "71\n",
      "72\n",
      "73\n",
      "74\n",
      "75\n",
      "76\n",
      "77\n",
      "78\n",
      "79\n",
      "80\n",
      "81\n",
      "82\n",
      "83\n",
      "84\n",
      "85\n",
      "86\n",
      "87\n",
      "88\n",
      "89\n",
      "90\n",
      "91\n",
      "92\n",
      "93\n",
      "94\n",
      "95\n",
      "96\n",
      "97\n",
      "98\n",
      "99\n"
     ]
    }
   ],
   "source": [
    "x = 0\n",
    "while x < 100:\n",
    "    response = requests.get(\"https://api.myanimelist.net/v2/anime/ranking?ranking_type=all&limit=5\",  headers = header)\n",
    "    for i in range(0, 100):\n",
    "        \n",
    "    \n",
    "    x += 100"
   ]
  },
  {
   "cell_type": "code",
   "execution_count": null,
   "id": "7d4db0f5-fe49-4f85-9e33-b57a1c30f4c4",
   "metadata": {},
   "outputs": [],
   "source": []
  }
 ],
 "metadata": {
  "kernelspec": {
   "display_name": "Python 3 (ipykernel)",
   "language": "python",
   "name": "python3"
  },
  "language_info": {
   "codemirror_mode": {
    "name": "ipython",
    "version": 3
   },
   "file_extension": ".py",
   "mimetype": "text/x-python",
   "name": "python",
   "nbconvert_exporter": "python",
   "pygments_lexer": "ipython3",
   "version": "3.11.0"
  }
 },
 "nbformat": 4,
 "nbformat_minor": 5
}
