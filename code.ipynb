{
 "cells": [
  {
   "cell_type": "code",
   "execution_count": 11,
   "id": "3335890b-bfd0-4e4e-8e48-ab0ec9d8690a",
   "metadata": {
    "tags": []
   },
   "outputs": [],
   "source": [
    "import requests\n",
    "import key"
   ]
  },
  {
   "cell_type": "code",
   "execution_count": 100,
   "id": "dd6dc4a2-daa0-4b50-b2ed-7fc20a0a1853",
   "metadata": {
    "tags": []
   },
   "outputs": [],
   "source": [
    "header = {'X-MAL-CLIENT-ID': key.api_key}\n",
    "# response = requests.get(\"https://api.myanimelist.net/v2/anime?\",  headers = header)\n",
    "# response = requests.get(\"https://api.myanimelist.net/v2/anime/10456\",  headers = header)\n",
    "response = requests.get(\"https://api.myanimelist.net/v2/anime/ranking?ranking_type=all&limit=10\",  headers = header)"
   ]
  },
  {
   "cell_type": "code",
   "execution_count": 101,
   "id": "b634a57b-a0dd-48f8-a4ae-4c90fa7078ed",
   "metadata": {
    "tags": []
   },
   "outputs": [],
   "source": [
    "data_json = response.json()"
   ]
  },
  {
   "cell_type": "code",
   "execution_count": 102,
   "id": "176ad7fc-4752-4a7a-80b2-23884cb8c330",
   "metadata": {},
   "outputs": [
    {
     "data": {
      "text/plain": [
       "{'data': [{'node': {'id': 51535,\n",
       "    'title': 'Shingeki no Kyojin: The Final Season - Kanketsu-hen',\n",
       "    'main_picture': {'medium': 'https://api-cdn.myanimelist.net/images/anime/1279/131078.jpg',\n",
       "     'large': 'https://api-cdn.myanimelist.net/images/anime/1279/131078l.jpg'}},\n",
       "   'ranking': {'rank': 1}},\n",
       "  {'node': {'id': 5114,\n",
       "    'title': 'Fullmetal Alchemist: Brotherhood',\n",
       "    'main_picture': {'medium': 'https://api-cdn.myanimelist.net/images/anime/1208/94745.jpg',\n",
       "     'large': 'https://api-cdn.myanimelist.net/images/anime/1208/94745l.jpg'}},\n",
       "   'ranking': {'rank': 2}},\n",
       "  {'node': {'id': 41467,\n",
       "    'title': 'Bleach: Sennen Kessen-hen',\n",
       "    'main_picture': {'medium': 'https://api-cdn.myanimelist.net/images/anime/1764/126627.jpg',\n",
       "     'large': 'https://api-cdn.myanimelist.net/images/anime/1764/126627l.jpg'}},\n",
       "   'ranking': {'rank': 3}},\n",
       "  {'node': {'id': 9253,\n",
       "    'title': 'Steins;Gate',\n",
       "    'main_picture': {'medium': 'https://api-cdn.myanimelist.net/images/anime/1935/127974.jpg',\n",
       "     'large': 'https://api-cdn.myanimelist.net/images/anime/1935/127974l.jpg'}},\n",
       "   'ranking': {'rank': 4}},\n",
       "  {'node': {'id': 28977,\n",
       "    'title': 'Gintama°',\n",
       "    'main_picture': {'medium': 'https://api-cdn.myanimelist.net/images/anime/3/72078.jpg',\n",
       "     'large': 'https://api-cdn.myanimelist.net/images/anime/3/72078l.jpg'}},\n",
       "   'ranking': {'rank': 5}},\n",
       "  {'node': {'id': 43608,\n",
       "    'title': 'Kaguya-sama wa Kokurasetai: Ultra Romantic',\n",
       "    'main_picture': {'medium': 'https://api-cdn.myanimelist.net/images/anime/1160/122627.jpg',\n",
       "     'large': 'https://api-cdn.myanimelist.net/images/anime/1160/122627l.jpg'}},\n",
       "   'ranking': {'rank': 6}},\n",
       "  {'node': {'id': 38524,\n",
       "    'title': 'Shingeki no Kyojin Season 3 Part 2',\n",
       "    'main_picture': {'medium': 'https://api-cdn.myanimelist.net/images/anime/1517/100633.jpg',\n",
       "     'large': 'https://api-cdn.myanimelist.net/images/anime/1517/100633l.jpg'}},\n",
       "   'ranking': {'rank': 7}},\n",
       "  {'node': {'id': 39486,\n",
       "    'title': 'Gintama: The Final',\n",
       "    'main_picture': {'medium': 'https://api-cdn.myanimelist.net/images/anime/1988/113791.jpg',\n",
       "     'large': 'https://api-cdn.myanimelist.net/images/anime/1988/113791l.jpg'}},\n",
       "   'ranking': {'rank': 8}},\n",
       "  {'node': {'id': 9969,\n",
       "    'title': \"Gintama'\",\n",
       "    'main_picture': {'medium': 'https://api-cdn.myanimelist.net/images/anime/4/50361.jpg',\n",
       "     'large': 'https://api-cdn.myanimelist.net/images/anime/4/50361l.jpg'}},\n",
       "   'ranking': {'rank': 9}},\n",
       "  {'node': {'id': 11061,\n",
       "    'title': 'Hunter x Hunter (2011)',\n",
       "    'main_picture': {'medium': 'https://api-cdn.myanimelist.net/images/anime/1337/99013.jpg',\n",
       "     'large': 'https://api-cdn.myanimelist.net/images/anime/1337/99013l.jpg'}},\n",
       "   'ranking': {'rank': 10}}],\n",
       " 'paging': {'next': 'https://api.myanimelist.net/v2/anime/ranking?offset=10&ranking_type=all&limit=10'}}"
      ]
     },
     "execution_count": 102,
     "metadata": {},
     "output_type": "execute_result"
    }
   ],
   "source": [
    "# use paging in for loop\n",
    "data_json"
   ]
  },
  {
   "cell_type": "code",
   "execution_count": 97,
   "id": "094203dc-4457-4ee9-adb2-9ff0c3d628fc",
   "metadata": {
    "tags": []
   },
   "outputs": [
    {
     "data": {
      "text/plain": [
       "51535"
      ]
     },
     "execution_count": 97,
     "metadata": {},
     "output_type": "execute_result"
    }
   ],
   "source": [
    "data_json['data'][0]['node']['id']"
   ]
  },
  {
   "cell_type": "code",
   "execution_count": null,
   "id": "4b1a686d-f5f5-4d48-9af5-f7b9fea5983f",
   "metadata": {},
   "outputs": [],
   "source": []
  },
  {
   "cell_type": "code",
   "execution_count": null,
   "id": "7d4db0f5-fe49-4f85-9e33-b57a1c30f4c4",
   "metadata": {},
   "outputs": [],
   "source": []
  }
 ],
 "metadata": {
  "kernelspec": {
   "display_name": "Python 3 (ipykernel)",
   "language": "python",
   "name": "python3"
  },
  "language_info": {
   "codemirror_mode": {
    "name": "ipython",
    "version": 3
   },
   "file_extension": ".py",
   "mimetype": "text/x-python",
   "name": "python",
   "nbconvert_exporter": "python",
   "pygments_lexer": "ipython3",
   "version": "3.11.0"
  }
 },
 "nbformat": 4,
 "nbformat_minor": 5
}
