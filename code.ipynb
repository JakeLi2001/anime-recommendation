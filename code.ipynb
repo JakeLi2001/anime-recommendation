{
 "cells": [
  {
   "cell_type": "code",
   "execution_count": 1,
   "id": "3335890b-bfd0-4e4e-8e48-ab0ec9d8690a",
   "metadata": {
    "tags": []
   },
   "outputs": [],
   "source": [
    "import requests\n",
    "import key\n",
    "import pandas as pd"
   ]
  },
  {
   "cell_type": "code",
   "execution_count": 2,
   "id": "dd6dc4a2-daa0-4b50-b2ed-7fc20a0a1853",
   "metadata": {
    "tags": []
   },
   "outputs": [],
   "source": [
    "# api key for the header\n",
    "header = {'X-MAL-CLIENT-ID': key.api_key}"
   ]
  },
  {
   "cell_type": "code",
   "execution_count": 3,
   "id": "b634a57b-a0dd-48f8-a4ae-4c90fa7078ed",
   "metadata": {
    "tags": []
   },
   "outputs": [
    {
     "data": {
      "text/plain": [
       "{'data': [{'node': {'id': 51535,\n",
       "    'title': 'Shingeki no Kyojin: The Final Season - Kanketsu-hen',\n",
       "    'main_picture': {'medium': 'https://api-cdn.myanimelist.net/images/anime/1279/131078.jpg',\n",
       "     'large': 'https://api-cdn.myanimelist.net/images/anime/1279/131078l.jpg'}},\n",
       "   'ranking': {'rank': 1}},\n",
       "  {'node': {'id': 5114,\n",
       "    'title': 'Fullmetal Alchemist: Brotherhood',\n",
       "    'main_picture': {'medium': 'https://api-cdn.myanimelist.net/images/anime/1208/94745.jpg',\n",
       "     'large': 'https://api-cdn.myanimelist.net/images/anime/1208/94745l.jpg'}},\n",
       "   'ranking': {'rank': 2}}],\n",
       " 'paging': {'next': 'https://api.myanimelist.net/v2/anime/ranking?offset=2&ranking_type=all&limit=2'}}"
      ]
     },
     "execution_count": 3,
     "metadata": {},
     "output_type": "execute_result"
    }
   ],
   "source": [
    "# example\n",
    "response = requests.get(\"https://api.myanimelist.net/v2/anime/ranking?ranking_type=all&limit=2\",  headers = header)\n",
    "data_json = response.json()\n",
    "data_json"
   ]
  },
  {
   "cell_type": "code",
   "execution_count": 115,
   "id": "4b1a686d-f5f5-4d48-9af5-f7b9fea5983f",
   "metadata": {
    "tags": []
   },
   "outputs": [],
   "source": [
    "x = 0\n",
    "idx_list = []\n",
    "title_list = []\n",
    "api_url = \"https://api.myanimelist.net/v2/anime/ranking?ranking_type=all&limit=500\"\n",
    "while x < 10000:\n",
    "    response = requests.get(api_url,  headers = header)\n",
    "    data_json = response.json()\n",
    "    for i in range(500):\n",
    "        idx_list.append(data_json['data'][i]['node']['id'])\n",
    "        title_list.append(data_json['data'][i]['node']['title'])\n",
    "    api_url = data_json['paging']['next']\n",
    "    x += 500"
   ]
  },
  {
   "cell_type": "code",
   "execution_count": 119,
   "id": "09cdcf88-7b57-4e13-b36e-07c6477a258a",
   "metadata": {},
   "outputs": [
    {
     "data": {
      "text/plain": [
       "10000"
      ]
     },
     "execution_count": 119,
     "metadata": {},
     "output_type": "execute_result"
    }
   ],
   "source": [
    "len(idx_list)"
   ]
  },
  {
   "cell_type": "code",
   "execution_count": 121,
   "id": "9489ca7c-5048-4c19-b1da-1df774b5ce5c",
   "metadata": {
    "tags": []
   },
   "outputs": [
    {
     "data": {
      "text/plain": [
       "10000"
      ]
     },
     "execution_count": 121,
     "metadata": {},
     "output_type": "execute_result"
    }
   ],
   "source": [
    "len(title_list)"
   ]
  },
  {
   "cell_type": "code",
   "execution_count": 128,
   "id": "55054d95-f98b-4f52-9f39-a77db59de346",
   "metadata": {
    "tags": []
   },
   "outputs": [
    {
     "data": {
      "text/html": [
       "<div>\n",
       "<style scoped>\n",
       "    .dataframe tbody tr th:only-of-type {\n",
       "        vertical-align: middle;\n",
       "    }\n",
       "\n",
       "    .dataframe tbody tr th {\n",
       "        vertical-align: top;\n",
       "    }\n",
       "\n",
       "    .dataframe thead th {\n",
       "        text-align: right;\n",
       "    }\n",
       "</style>\n",
       "<table border=\"1\" class=\"dataframe\">\n",
       "  <thead>\n",
       "    <tr style=\"text-align: right;\">\n",
       "      <th></th>\n",
       "      <th>id</th>\n",
       "      <th>title</th>\n",
       "    </tr>\n",
       "  </thead>\n",
       "  <tbody>\n",
       "    <tr>\n",
       "      <th>0</th>\n",
       "      <td>51535</td>\n",
       "      <td>Shingeki no Kyojin: The Final Season - Kankets...</td>\n",
       "    </tr>\n",
       "    <tr>\n",
       "      <th>1</th>\n",
       "      <td>5114</td>\n",
       "      <td>Fullmetal Alchemist: Brotherhood</td>\n",
       "    </tr>\n",
       "    <tr>\n",
       "      <th>2</th>\n",
       "      <td>41467</td>\n",
       "      <td>Bleach: Sennen Kessen-hen</td>\n",
       "    </tr>\n",
       "    <tr>\n",
       "      <th>3</th>\n",
       "      <td>9253</td>\n",
       "      <td>Steins;Gate</td>\n",
       "    </tr>\n",
       "    <tr>\n",
       "      <th>4</th>\n",
       "      <td>28977</td>\n",
       "      <td>Gintama°</td>\n",
       "    </tr>\n",
       "  </tbody>\n",
       "</table>\n",
       "</div>"
      ],
      "text/plain": [
       "      id                                              title\n",
       "0  51535  Shingeki no Kyojin: The Final Season - Kankets...\n",
       "1   5114                   Fullmetal Alchemist: Brotherhood\n",
       "2  41467                          Bleach: Sennen Kessen-hen\n",
       "3   9253                                        Steins;Gate\n",
       "4  28977                                           Gintama°"
      ]
     },
     "execution_count": 128,
     "metadata": {},
     "output_type": "execute_result"
    }
   ],
   "source": [
    "df = pd.DataFrame(data={'id': idx_list, 'title': title_list})\n",
    "df.head()"
   ]
  },
  {
   "cell_type": "code",
   "execution_count": 167,
   "id": "8bc3eebe-b8ba-4df9-8c78-b657f2f4d626",
   "metadata": {
    "tags": []
   },
   "outputs": [
    {
     "data": {
      "text/plain": [
       "False    10000\n",
       "dtype: int64"
      ]
     },
     "execution_count": 167,
     "metadata": {},
     "output_type": "execute_result"
    }
   ],
   "source": [
    "# check for duplicates\n",
    "df.duplicated().value_counts()"
   ]
  },
  {
   "cell_type": "code",
   "execution_count": null,
   "id": "a50929b8-0fc8-47af-a67d-ce761d6c950c",
   "metadata": {},
   "outputs": [],
   "source": [
    "# list of fiedls available for getting anime details"
   ]
  },
  {
   "cell_type": "code",
   "execution_count": 166,
   "id": "cf84c4df-b373-4aa8-876d-32afcccc8b97",
   "metadata": {
    "tags": []
   },
   "outputs": [
    {
     "data": {
      "text/plain": [
       "{'id': 51535,\n",
       " 'title': 'Shingeki no Kyojin: The Final Season - Kanketsu-hen',\n",
       " 'main_picture': {'medium': 'https://api-cdn.myanimelist.net/images/anime/1279/131078.jpg',\n",
       "  'large': 'https://api-cdn.myanimelist.net/images/anime/1279/131078l.jpg'},\n",
       " 'alternative_titles': {'synonyms': ['Shingeki no Kyojin: The Final Season Part 3',\n",
       "   'Shingeki no Kyojin Season 4',\n",
       "   'Attack on Titan Season 4'],\n",
       "  'en': 'Attack on Titan: Final Season - The Final Chapters',\n",
       "  'ja': '進撃の巨人 The Final Season完結編'}}"
      ]
     },
     "execution_count": 166,
     "metadata": {},
     "output_type": "execute_result"
    }
   ],
   "source": [
    "response1 = requests.get('https://api.myanimelist.net/v2/anime/51535?fields=id,title,alternative_titles', headers=header)\n",
    "data_json1 = response1.json()\n",
    "data_json1"
   ]
  },
  {
   "cell_type": "code",
   "execution_count": null,
   "id": "db09c6f6-5331-49f3-9053-affde535c92c",
   "metadata": {},
   "outputs": [],
   "source": []
  }
 ],
 "metadata": {
  "kernelspec": {
   "display_name": "Python 3 (ipykernel)",
   "language": "python",
   "name": "python3"
  },
  "language_info": {
   "codemirror_mode": {
    "name": "ipython",
    "version": 3
   },
   "file_extension": ".py",
   "mimetype": "text/x-python",
   "name": "python",
   "nbconvert_exporter": "python",
   "pygments_lexer": "ipython3",
   "version": "3.11.1"
  }
 },
 "nbformat": 4,
 "nbformat_minor": 5
}
