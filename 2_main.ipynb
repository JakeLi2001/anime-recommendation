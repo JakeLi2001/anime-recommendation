{
 "cells": [
  {
   "cell_type": "code",
   "execution_count": 23,
   "id": "51148edd-5491-4dcd-a400-f994ea2926bb",
   "metadata": {},
   "outputs": [],
   "source": [
    "import pandas as pd\n",
    "import re"
   ]
  },
  {
   "cell_type": "markdown",
   "id": "7bf9588c-6ae5-4454-9d09-58d145d1f952",
   "metadata": {},
   "source": [
    "# Merge the two dataframes"
   ]
  },
  {
   "cell_type": "code",
   "execution_count": 24,
   "id": "a946e4b2-ce7a-45b0-ba6d-15615ee8145e",
   "metadata": {
    "tags": []
   },
   "outputs": [
    {
     "data": {
      "text/html": [
       "<div>\n",
       "<style scoped>\n",
       "    .dataframe tbody tr th:only-of-type {\n",
       "        vertical-align: middle;\n",
       "    }\n",
       "\n",
       "    .dataframe tbody tr th {\n",
       "        vertical-align: top;\n",
       "    }\n",
       "\n",
       "    .dataframe thead th {\n",
       "        text-align: right;\n",
       "    }\n",
       "</style>\n",
       "<table border=\"1\" class=\"dataframe\">\n",
       "  <thead>\n",
       "    <tr style=\"text-align: right;\">\n",
       "      <th></th>\n",
       "      <th>id</th>\n",
       "      <th>title</th>\n",
       "      <th>picture_url</th>\n",
       "    </tr>\n",
       "  </thead>\n",
       "  <tbody>\n",
       "    <tr>\n",
       "      <th>0</th>\n",
       "      <td>51535</td>\n",
       "      <td>Shingeki no Kyojin: The Final Season - Kankets...</td>\n",
       "      <td>https://api-cdn.myanimelist.net/images/anime/1...</td>\n",
       "    </tr>\n",
       "    <tr>\n",
       "      <th>1</th>\n",
       "      <td>5114</td>\n",
       "      <td>Fullmetal Alchemist: Brotherhood</td>\n",
       "      <td>https://api-cdn.myanimelist.net/images/anime/1...</td>\n",
       "    </tr>\n",
       "    <tr>\n",
       "      <th>2</th>\n",
       "      <td>41467</td>\n",
       "      <td>Bleach: Sennen Kessen-hen</td>\n",
       "      <td>https://api-cdn.myanimelist.net/images/anime/1...</td>\n",
       "    </tr>\n",
       "    <tr>\n",
       "      <th>3</th>\n",
       "      <td>9253</td>\n",
       "      <td>Steins;Gate</td>\n",
       "      <td>https://api-cdn.myanimelist.net/images/anime/1...</td>\n",
       "    </tr>\n",
       "    <tr>\n",
       "      <th>4</th>\n",
       "      <td>28977</td>\n",
       "      <td>Gintama°</td>\n",
       "      <td>https://api-cdn.myanimelist.net/images/anime/3...</td>\n",
       "    </tr>\n",
       "  </tbody>\n",
       "</table>\n",
       "</div>"
      ],
      "text/plain": [
       "      id                                              title  \\\n",
       "0  51535  Shingeki no Kyojin: The Final Season - Kankets...   \n",
       "1   5114                   Fullmetal Alchemist: Brotherhood   \n",
       "2  41467                          Bleach: Sennen Kessen-hen   \n",
       "3   9253                                        Steins;Gate   \n",
       "4  28977                                           Gintama°   \n",
       "\n",
       "                                         picture_url  \n",
       "0  https://api-cdn.myanimelist.net/images/anime/1...  \n",
       "1  https://api-cdn.myanimelist.net/images/anime/1...  \n",
       "2  https://api-cdn.myanimelist.net/images/anime/1...  \n",
       "3  https://api-cdn.myanimelist.net/images/anime/1...  \n",
       "4  https://api-cdn.myanimelist.net/images/anime/3...  "
      ]
     },
     "execution_count": 24,
     "metadata": {},
     "output_type": "execute_result"
    }
   ],
   "source": [
    "anime_df = pd.read_csv('data/anime_df.csv')\n",
    "anime_df.head()"
   ]
  },
  {
   "cell_type": "code",
   "execution_count": 25,
   "id": "cad49778-0988-44d1-8eeb-773ebf3d83e3",
   "metadata": {
    "tags": []
   },
   "outputs": [
    {
     "data": {
      "text/html": [
       "<div>\n",
       "<style scoped>\n",
       "    .dataframe tbody tr th:only-of-type {\n",
       "        vertical-align: middle;\n",
       "    }\n",
       "\n",
       "    .dataframe tbody tr th {\n",
       "        vertical-align: top;\n",
       "    }\n",
       "\n",
       "    .dataframe thead th {\n",
       "        text-align: right;\n",
       "    }\n",
       "</style>\n",
       "<table border=\"1\" class=\"dataframe\">\n",
       "  <thead>\n",
       "    <tr style=\"text-align: right;\">\n",
       "      <th></th>\n",
       "      <th>id</th>\n",
       "      <th>alternative_titles</th>\n",
       "      <th>synopsis</th>\n",
       "      <th>nsfw</th>\n",
       "      <th>media_type</th>\n",
       "      <th>genres</th>\n",
       "      <th>source</th>\n",
       "      <th>studios</th>\n",
       "    </tr>\n",
       "  </thead>\n",
       "  <tbody>\n",
       "    <tr>\n",
       "      <th>0</th>\n",
       "      <td>51535</td>\n",
       "      <td>{'synonyms': ['Shingeki no Kyojin: The Final S...</td>\n",
       "      <td>The conclusion to Shingeki no Kyojin.</td>\n",
       "      <td>white</td>\n",
       "      <td>special</td>\n",
       "      <td>[{'id': 1, 'name': 'Action'}, {'id': 8, 'name'...</td>\n",
       "      <td>manga</td>\n",
       "      <td>[{'id': 569, 'name': 'MAPPA'}]</td>\n",
       "    </tr>\n",
       "    <tr>\n",
       "      <th>1</th>\n",
       "      <td>5114</td>\n",
       "      <td>{'synonyms': ['Hagane no Renkinjutsushi: Fullm...</td>\n",
       "      <td>After a horrific alchemy experiment goes wrong...</td>\n",
       "      <td>white</td>\n",
       "      <td>tv</td>\n",
       "      <td>[{'id': 1, 'name': 'Action'}, {'id': 2, 'name'...</td>\n",
       "      <td>manga</td>\n",
       "      <td>[{'id': 4, 'name': 'Bones'}]</td>\n",
       "    </tr>\n",
       "    <tr>\n",
       "      <th>2</th>\n",
       "      <td>41467</td>\n",
       "      <td>{'synonyms': ['Bleach: Thousand-Year Blood War...</td>\n",
       "      <td>Substitute Soul Reaper Ichigo Kurosaki spends ...</td>\n",
       "      <td>white</td>\n",
       "      <td>tv</td>\n",
       "      <td>[{'id': 1, 'name': 'Action'}, {'id': 2, 'name'...</td>\n",
       "      <td>manga</td>\n",
       "      <td>[{'id': 1, 'name': 'Pierrot'}]</td>\n",
       "    </tr>\n",
       "    <tr>\n",
       "      <th>3</th>\n",
       "      <td>9253</td>\n",
       "      <td>{'synonyms': [], 'en': 'Steins;Gate', 'ja': 'S...</td>\n",
       "      <td>Eccentric scientist Rintarou Okabe has a never...</td>\n",
       "      <td>white</td>\n",
       "      <td>tv</td>\n",
       "      <td>[{'id': 8, 'name': 'Drama'}, {'id': 40, 'name'...</td>\n",
       "      <td>visual_novel</td>\n",
       "      <td>[{'id': 314, 'name': 'White Fox'}]</td>\n",
       "    </tr>\n",
       "    <tr>\n",
       "      <th>4</th>\n",
       "      <td>28977</td>\n",
       "      <td>{'synonyms': [\"Gintama' (2015)\"], 'en': 'Ginta...</td>\n",
       "      <td>Gintoki, Shinpachi, and Kagura return as the f...</td>\n",
       "      <td>white</td>\n",
       "      <td>tv</td>\n",
       "      <td>[{'id': 1, 'name': 'Action'}, {'id': 4, 'name'...</td>\n",
       "      <td>manga</td>\n",
       "      <td>[{'id': 1258, 'name': 'Bandai Namco Pictures'}]</td>\n",
       "    </tr>\n",
       "  </tbody>\n",
       "</table>\n",
       "</div>"
      ],
      "text/plain": [
       "      id                                 alternative_titles  \\\n",
       "0  51535  {'synonyms': ['Shingeki no Kyojin: The Final S...   \n",
       "1   5114  {'synonyms': ['Hagane no Renkinjutsushi: Fullm...   \n",
       "2  41467  {'synonyms': ['Bleach: Thousand-Year Blood War...   \n",
       "3   9253  {'synonyms': [], 'en': 'Steins;Gate', 'ja': 'S...   \n",
       "4  28977  {'synonyms': [\"Gintama' (2015)\"], 'en': 'Ginta...   \n",
       "\n",
       "                                            synopsis   nsfw media_type  \\\n",
       "0              The conclusion to Shingeki no Kyojin.  white    special   \n",
       "1  After a horrific alchemy experiment goes wrong...  white         tv   \n",
       "2  Substitute Soul Reaper Ichigo Kurosaki spends ...  white         tv   \n",
       "3  Eccentric scientist Rintarou Okabe has a never...  white         tv   \n",
       "4  Gintoki, Shinpachi, and Kagura return as the f...  white         tv   \n",
       "\n",
       "                                              genres        source  \\\n",
       "0  [{'id': 1, 'name': 'Action'}, {'id': 8, 'name'...         manga   \n",
       "1  [{'id': 1, 'name': 'Action'}, {'id': 2, 'name'...         manga   \n",
       "2  [{'id': 1, 'name': 'Action'}, {'id': 2, 'name'...         manga   \n",
       "3  [{'id': 8, 'name': 'Drama'}, {'id': 40, 'name'...  visual_novel   \n",
       "4  [{'id': 1, 'name': 'Action'}, {'id': 4, 'name'...         manga   \n",
       "\n",
       "                                           studios  \n",
       "0                   [{'id': 569, 'name': 'MAPPA'}]  \n",
       "1                     [{'id': 4, 'name': 'Bones'}]  \n",
       "2                   [{'id': 1, 'name': 'Pierrot'}]  \n",
       "3               [{'id': 314, 'name': 'White Fox'}]  \n",
       "4  [{'id': 1258, 'name': 'Bandai Namco Pictures'}]  "
      ]
     },
     "execution_count": 25,
     "metadata": {},
     "output_type": "execute_result"
    }
   ],
   "source": [
    "anime_details_df = pd.read_csv('data/anime_details_df.csv')\n",
    "anime_details_df.head()"
   ]
  },
  {
   "cell_type": "markdown",
   "id": "1624fc52-b13b-41a1-9dbb-94639b92522f",
   "metadata": {},
   "source": [
    "## anime_details_df needs some data cleaning before merging"
   ]
  },
  {
   "cell_type": "code",
   "execution_count": 26,
   "id": "3284d374-b2b9-4566-b96d-0bf2e2104e36",
   "metadata": {
    "tags": []
   },
   "outputs": [
    {
     "data": {
      "text/html": [
       "<div>\n",
       "<style scoped>\n",
       "    .dataframe tbody tr th:only-of-type {\n",
       "        vertical-align: middle;\n",
       "    }\n",
       "\n",
       "    .dataframe tbody tr th {\n",
       "        vertical-align: top;\n",
       "    }\n",
       "\n",
       "    .dataframe thead th {\n",
       "        text-align: right;\n",
       "    }\n",
       "</style>\n",
       "<table border=\"1\" class=\"dataframe\">\n",
       "  <thead>\n",
       "    <tr style=\"text-align: right;\">\n",
       "      <th></th>\n",
       "      <th>id</th>\n",
       "      <th>synopsis</th>\n",
       "      <th>nsfw</th>\n",
       "      <th>media_type</th>\n",
       "      <th>genres</th>\n",
       "      <th>source</th>\n",
       "      <th>studios</th>\n",
       "      <th>alternative_titles</th>\n",
       "      <th>english_title</th>\n",
       "      <th>japanese_title</th>\n",
       "    </tr>\n",
       "  </thead>\n",
       "  <tbody>\n",
       "    <tr>\n",
       "      <th>0</th>\n",
       "      <td>51535</td>\n",
       "      <td>The conclusion to Shingeki no Kyojin.</td>\n",
       "      <td>white</td>\n",
       "      <td>special</td>\n",
       "      <td>[{'id': 1, 'name': 'Action'}, {'id': 8, 'name'...</td>\n",
       "      <td>manga</td>\n",
       "      <td>[{'id': 569, 'name': 'MAPPA'}]</td>\n",
       "      <td>[Shingeki no Kyojin: The Final Season Part 3, ...</td>\n",
       "      <td>Attack on Titan: Final Season - The Final Chap...</td>\n",
       "      <td>進撃の巨人 The Final Season完結編</td>\n",
       "    </tr>\n",
       "    <tr>\n",
       "      <th>1</th>\n",
       "      <td>5114</td>\n",
       "      <td>After a horrific alchemy experiment goes wrong...</td>\n",
       "      <td>white</td>\n",
       "      <td>tv</td>\n",
       "      <td>[{'id': 1, 'name': 'Action'}, {'id': 2, 'name'...</td>\n",
       "      <td>manga</td>\n",
       "      <td>[{'id': 4, 'name': 'Bones'}]</td>\n",
       "      <td>[Hagane no Renkinjutsushi: Fullmetal Alchemist...</td>\n",
       "      <td>Fullmetal Alchemist: Brotherhood</td>\n",
       "      <td>鋼の錬金術師 FULLMETAL ALCHEMIST</td>\n",
       "    </tr>\n",
       "    <tr>\n",
       "      <th>2</th>\n",
       "      <td>41467</td>\n",
       "      <td>Substitute Soul Reaper Ichigo Kurosaki spends ...</td>\n",
       "      <td>white</td>\n",
       "      <td>tv</td>\n",
       "      <td>[{'id': 1, 'name': 'Action'}, {'id': 2, 'name'...</td>\n",
       "      <td>manga</td>\n",
       "      <td>[{'id': 1, 'name': 'Pierrot'}]</td>\n",
       "      <td>[Bleach: Thousand-Year Blood War Arc]</td>\n",
       "      <td>Bleach: Thousand-Year Blood War</td>\n",
       "      <td>BLEACH 千年血戦篇</td>\n",
       "    </tr>\n",
       "  </tbody>\n",
       "</table>\n",
       "</div>"
      ],
      "text/plain": [
       "      id                                           synopsis   nsfw media_type  \\\n",
       "0  51535              The conclusion to Shingeki no Kyojin.  white    special   \n",
       "1   5114  After a horrific alchemy experiment goes wrong...  white         tv   \n",
       "2  41467  Substitute Soul Reaper Ichigo Kurosaki spends ...  white         tv   \n",
       "\n",
       "                                              genres source  \\\n",
       "0  [{'id': 1, 'name': 'Action'}, {'id': 8, 'name'...  manga   \n",
       "1  [{'id': 1, 'name': 'Action'}, {'id': 2, 'name'...  manga   \n",
       "2  [{'id': 1, 'name': 'Action'}, {'id': 2, 'name'...  manga   \n",
       "\n",
       "                          studios  \\\n",
       "0  [{'id': 569, 'name': 'MAPPA'}]   \n",
       "1    [{'id': 4, 'name': 'Bones'}]   \n",
       "2  [{'id': 1, 'name': 'Pierrot'}]   \n",
       "\n",
       "                                  alternative_titles  \\\n",
       "0  [Shingeki no Kyojin: The Final Season Part 3, ...   \n",
       "1  [Hagane no Renkinjutsushi: Fullmetal Alchemist...   \n",
       "2              [Bleach: Thousand-Year Blood War Arc]   \n",
       "\n",
       "                                       english_title  \\\n",
       "0  Attack on Titan: Final Season - The Final Chap...   \n",
       "1                   Fullmetal Alchemist: Brotherhood   \n",
       "2                    Bleach: Thousand-Year Blood War   \n",
       "\n",
       "               japanese_title  \n",
       "0   進撃の巨人 The Final Season完結編  \n",
       "1  鋼の錬金術師 FULLMETAL ALCHEMIST  \n",
       "2                BLEACH 千年血戦篇  "
      ]
     },
     "execution_count": 26,
     "metadata": {},
     "output_type": "execute_result"
    }
   ],
   "source": [
    "# normalize the alternative_titles column\n",
    "anime_details_df['alternative_titles'] = anime_details_df['alternative_titles'].apply(lambda x: eval(x))\n",
    "anime_details_df = anime_details_df.join(pd.json_normalize(anime_details_df.pop('alternative_titles')))\n",
    "\n",
    "anime_details_df = anime_details_df.rename(columns={'synonyms':'alternative_titles', 'en':'english_title', 'ja':'japanese_title'})\n",
    "\n",
    "anime_details_df.head(3)"
   ]
  },
  {
   "cell_type": "code",
   "execution_count": 27,
   "id": "4606b656-2c60-472f-baef-fd155724206c",
   "metadata": {
    "tags": []
   },
   "outputs": [
    {
     "data": {
      "text/html": [
       "<div>\n",
       "<style scoped>\n",
       "    .dataframe tbody tr th:only-of-type {\n",
       "        vertical-align: middle;\n",
       "    }\n",
       "\n",
       "    .dataframe tbody tr th {\n",
       "        vertical-align: top;\n",
       "    }\n",
       "\n",
       "    .dataframe thead th {\n",
       "        text-align: right;\n",
       "    }\n",
       "</style>\n",
       "<table border=\"1\" class=\"dataframe\">\n",
       "  <thead>\n",
       "    <tr style=\"text-align: right;\">\n",
       "      <th></th>\n",
       "      <th>id</th>\n",
       "      <th>synopsis</th>\n",
       "      <th>nsfw</th>\n",
       "      <th>media_type</th>\n",
       "      <th>genres</th>\n",
       "      <th>source</th>\n",
       "      <th>studios</th>\n",
       "      <th>alternative_titles</th>\n",
       "      <th>english_title</th>\n",
       "      <th>japanese_title</th>\n",
       "    </tr>\n",
       "  </thead>\n",
       "  <tbody>\n",
       "    <tr>\n",
       "      <th>0</th>\n",
       "      <td>51535</td>\n",
       "      <td>The conclusion to Shingeki no Kyojin.</td>\n",
       "      <td>white</td>\n",
       "      <td>special</td>\n",
       "      <td>Action    Drama    Gore    Military    Shou...</td>\n",
       "      <td>manga</td>\n",
       "      <td>[{'id': 569, 'name': 'MAPPA'}]</td>\n",
       "      <td>[Shingeki no Kyojin: The Final Season Part 3, ...</td>\n",
       "      <td>Attack on Titan: Final Season - The Final Chap...</td>\n",
       "      <td>進撃の巨人 The Final Season完結編</td>\n",
       "    </tr>\n",
       "    <tr>\n",
       "      <th>1</th>\n",
       "      <td>5114</td>\n",
       "      <td>After a horrific alchemy experiment goes wrong...</td>\n",
       "      <td>white</td>\n",
       "      <td>tv</td>\n",
       "      <td>Action    Adventure    Drama    Fantasy    ...</td>\n",
       "      <td>manga</td>\n",
       "      <td>[{'id': 4, 'name': 'Bones'}]</td>\n",
       "      <td>[Hagane no Renkinjutsushi: Fullmetal Alchemist...</td>\n",
       "      <td>Fullmetal Alchemist: Brotherhood</td>\n",
       "      <td>鋼の錬金術師 FULLMETAL ALCHEMIST</td>\n",
       "    </tr>\n",
       "    <tr>\n",
       "      <th>2</th>\n",
       "      <td>41467</td>\n",
       "      <td>Substitute Soul Reaper Ichigo Kurosaki spends ...</td>\n",
       "      <td>white</td>\n",
       "      <td>tv</td>\n",
       "      <td>Action    Adventure    Fantasy    Shounen</td>\n",
       "      <td>manga</td>\n",
       "      <td>[{'id': 1, 'name': 'Pierrot'}]</td>\n",
       "      <td>[Bleach: Thousand-Year Blood War Arc]</td>\n",
       "      <td>Bleach: Thousand-Year Blood War</td>\n",
       "      <td>BLEACH 千年血戦篇</td>\n",
       "    </tr>\n",
       "  </tbody>\n",
       "</table>\n",
       "</div>"
      ],
      "text/plain": [
       "      id                                           synopsis   nsfw media_type  \\\n",
       "0  51535              The conclusion to Shingeki no Kyojin.  white    special   \n",
       "1   5114  After a horrific alchemy experiment goes wrong...  white         tv   \n",
       "2  41467  Substitute Soul Reaper Ichigo Kurosaki spends ...  white         tv   \n",
       "\n",
       "                                              genres source  \\\n",
       "0     Action    Drama    Gore    Military    Shou...  manga   \n",
       "1     Action    Adventure    Drama    Fantasy    ...  manga   \n",
       "2          Action    Adventure    Fantasy    Shounen  manga   \n",
       "\n",
       "                          studios  \\\n",
       "0  [{'id': 569, 'name': 'MAPPA'}]   \n",
       "1    [{'id': 4, 'name': 'Bones'}]   \n",
       "2  [{'id': 1, 'name': 'Pierrot'}]   \n",
       "\n",
       "                                  alternative_titles  \\\n",
       "0  [Shingeki no Kyojin: The Final Season Part 3, ...   \n",
       "1  [Hagane no Renkinjutsushi: Fullmetal Alchemist...   \n",
       "2              [Bleach: Thousand-Year Blood War Arc]   \n",
       "\n",
       "                                       english_title  \\\n",
       "0  Attack on Titan: Final Season - The Final Chap...   \n",
       "1                   Fullmetal Alchemist: Brotherhood   \n",
       "2                    Bleach: Thousand-Year Blood War   \n",
       "\n",
       "               japanese_title  \n",
       "0   進撃の巨人 The Final Season完結編  \n",
       "1  鋼の錬金術師 FULLMETAL ALCHEMIST  \n",
       "2                BLEACH 千年血戦篇  "
      ]
     },
     "execution_count": 27,
     "metadata": {},
     "output_type": "execute_result"
    }
   ],
   "source": [
    "# get rid of unnecessary characters in the genres column\n",
    "anime_details_df['genres'] = anime_details_df['genres'].apply(lambda x: re.sub('[\\[\\]{}\\'0-9:,]', '', str(x)))\n",
    "anime_details_df['genres'] = anime_details_df['genres'].apply(lambda x: str(x).replace('id', '').replace('name', ''))\n",
    "\n",
    "anime_details_df.head(3)"
   ]
  },
  {
   "cell_type": "code",
   "execution_count": 28,
   "id": "fc408020-2c08-4b4a-bd51-bf68342a7af8",
   "metadata": {
    "tags": []
   },
   "outputs": [
    {
     "data": {
      "text/html": [
       "<div>\n",
       "<style scoped>\n",
       "    .dataframe tbody tr th:only-of-type {\n",
       "        vertical-align: middle;\n",
       "    }\n",
       "\n",
       "    .dataframe tbody tr th {\n",
       "        vertical-align: top;\n",
       "    }\n",
       "\n",
       "    .dataframe thead th {\n",
       "        text-align: right;\n",
       "    }\n",
       "</style>\n",
       "<table border=\"1\" class=\"dataframe\">\n",
       "  <thead>\n",
       "    <tr style=\"text-align: right;\">\n",
       "      <th></th>\n",
       "      <th>id</th>\n",
       "      <th>synopsis</th>\n",
       "      <th>nsfw</th>\n",
       "      <th>media_type</th>\n",
       "      <th>genres</th>\n",
       "      <th>source</th>\n",
       "      <th>studios</th>\n",
       "      <th>alternative_titles</th>\n",
       "      <th>english_title</th>\n",
       "      <th>japanese_title</th>\n",
       "    </tr>\n",
       "  </thead>\n",
       "  <tbody>\n",
       "    <tr>\n",
       "      <th>0</th>\n",
       "      <td>51535</td>\n",
       "      <td>The conclusion to Shingeki no Kyojin.</td>\n",
       "      <td>white</td>\n",
       "      <td>special</td>\n",
       "      <td>Action    Drama    Gore    Military    Shou...</td>\n",
       "      <td>manga</td>\n",
       "      <td>MAPPA</td>\n",
       "      <td>[Shingeki no Kyojin: The Final Season Part 3, ...</td>\n",
       "      <td>Attack on Titan: Final Season - The Final Chap...</td>\n",
       "      <td>進撃の巨人 The Final Season完結編</td>\n",
       "    </tr>\n",
       "    <tr>\n",
       "      <th>1</th>\n",
       "      <td>5114</td>\n",
       "      <td>After a horrific alchemy experiment goes wrong...</td>\n",
       "      <td>white</td>\n",
       "      <td>tv</td>\n",
       "      <td>Action    Adventure    Drama    Fantasy    ...</td>\n",
       "      <td>manga</td>\n",
       "      <td>Bones</td>\n",
       "      <td>[Hagane no Renkinjutsushi: Fullmetal Alchemist...</td>\n",
       "      <td>Fullmetal Alchemist: Brotherhood</td>\n",
       "      <td>鋼の錬金術師 FULLMETAL ALCHEMIST</td>\n",
       "    </tr>\n",
       "    <tr>\n",
       "      <th>2</th>\n",
       "      <td>41467</td>\n",
       "      <td>Substitute Soul Reaper Ichigo Kurosaki spends ...</td>\n",
       "      <td>white</td>\n",
       "      <td>tv</td>\n",
       "      <td>Action    Adventure    Fantasy    Shounen</td>\n",
       "      <td>manga</td>\n",
       "      <td>Pierrot</td>\n",
       "      <td>[Bleach: Thousand-Year Blood War Arc]</td>\n",
       "      <td>Bleach: Thousand-Year Blood War</td>\n",
       "      <td>BLEACH 千年血戦篇</td>\n",
       "    </tr>\n",
       "  </tbody>\n",
       "</table>\n",
       "</div>"
      ],
      "text/plain": [
       "      id                                           synopsis   nsfw media_type  \\\n",
       "0  51535              The conclusion to Shingeki no Kyojin.  white    special   \n",
       "1   5114  After a horrific alchemy experiment goes wrong...  white         tv   \n",
       "2  41467  Substitute Soul Reaper Ichigo Kurosaki spends ...  white         tv   \n",
       "\n",
       "                                              genres source     studios  \\\n",
       "0     Action    Drama    Gore    Military    Shou...  manga       MAPPA   \n",
       "1     Action    Adventure    Drama    Fantasy    ...  manga       Bones   \n",
       "2          Action    Adventure    Fantasy    Shounen  manga     Pierrot   \n",
       "\n",
       "                                  alternative_titles  \\\n",
       "0  [Shingeki no Kyojin: The Final Season Part 3, ...   \n",
       "1  [Hagane no Renkinjutsushi: Fullmetal Alchemist...   \n",
       "2              [Bleach: Thousand-Year Blood War Arc]   \n",
       "\n",
       "                                       english_title  \\\n",
       "0  Attack on Titan: Final Season - The Final Chap...   \n",
       "1                   Fullmetal Alchemist: Brotherhood   \n",
       "2                    Bleach: Thousand-Year Blood War   \n",
       "\n",
       "               japanese_title  \n",
       "0   進撃の巨人 The Final Season完結編  \n",
       "1  鋼の錬金術師 FULLMETAL ALCHEMIST  \n",
       "2                BLEACH 千年血戦篇  "
      ]
     },
     "execution_count": 28,
     "metadata": {},
     "output_type": "execute_result"
    }
   ],
   "source": [
    "# get rid of unnecessary characters in the studios column\n",
    "anime_details_df['studios'] = anime_details_df['studios'].apply(lambda x: re.sub('[\\[\\]{}\\'0-9:,]', '', str(x)))\n",
    "anime_details_df['studios'] = anime_details_df['studios'].apply(lambda x: str(x).replace('id', '').replace('name', ''))\n",
    "\n",
    "anime_details_df.head(3)"
   ]
  },
  {
   "cell_type": "code",
   "execution_count": 29,
   "id": "034d1f32-9a87-499a-bed5-e8650e04ce18",
   "metadata": {
    "tags": []
   },
   "outputs": [
    {
     "data": {
      "text/plain": [
       "Index(['id', 'synopsis', 'nsfw', 'media_type', 'genres', 'source', 'studios',\n",
       "       'alternative_titles', 'english_title', 'japanese_title'],\n",
       "      dtype='object')"
      ]
     },
     "execution_count": 29,
     "metadata": {},
     "output_type": "execute_result"
    }
   ],
   "source": [
    "anime_details_df.columns"
   ]
  },
  {
   "cell_type": "code",
   "execution_count": 30,
   "id": "3b3c2760-c7e5-4b0f-af7d-0fe72396c752",
   "metadata": {
    "tags": []
   },
   "outputs": [
    {
     "data": {
      "text/html": [
       "<div>\n",
       "<style scoped>\n",
       "    .dataframe tbody tr th:only-of-type {\n",
       "        vertical-align: middle;\n",
       "    }\n",
       "\n",
       "    .dataframe tbody tr th {\n",
       "        vertical-align: top;\n",
       "    }\n",
       "\n",
       "    .dataframe thead th {\n",
       "        text-align: right;\n",
       "    }\n",
       "</style>\n",
       "<table border=\"1\" class=\"dataframe\">\n",
       "  <thead>\n",
       "    <tr style=\"text-align: right;\">\n",
       "      <th></th>\n",
       "      <th>id</th>\n",
       "      <th>alternative_titles</th>\n",
       "      <th>english_title</th>\n",
       "      <th>japanese_title</th>\n",
       "      <th>synopsis</th>\n",
       "      <th>nsfw</th>\n",
       "      <th>media_type</th>\n",
       "      <th>genres</th>\n",
       "      <th>source</th>\n",
       "      <th>studios</th>\n",
       "    </tr>\n",
       "  </thead>\n",
       "  <tbody>\n",
       "    <tr>\n",
       "      <th>0</th>\n",
       "      <td>51535</td>\n",
       "      <td>[Shingeki no Kyojin: The Final Season Part 3, ...</td>\n",
       "      <td>Attack on Titan: Final Season - The Final Chap...</td>\n",
       "      <td>進撃の巨人 The Final Season完結編</td>\n",
       "      <td>The conclusion to Shingeki no Kyojin.</td>\n",
       "      <td>white</td>\n",
       "      <td>special</td>\n",
       "      <td>Action    Drama    Gore    Military    Shou...</td>\n",
       "      <td>manga</td>\n",
       "      <td>MAPPA</td>\n",
       "    </tr>\n",
       "    <tr>\n",
       "      <th>1</th>\n",
       "      <td>5114</td>\n",
       "      <td>[Hagane no Renkinjutsushi: Fullmetal Alchemist...</td>\n",
       "      <td>Fullmetal Alchemist: Brotherhood</td>\n",
       "      <td>鋼の錬金術師 FULLMETAL ALCHEMIST</td>\n",
       "      <td>After a horrific alchemy experiment goes wrong...</td>\n",
       "      <td>white</td>\n",
       "      <td>tv</td>\n",
       "      <td>Action    Adventure    Drama    Fantasy    ...</td>\n",
       "      <td>manga</td>\n",
       "      <td>Bones</td>\n",
       "    </tr>\n",
       "    <tr>\n",
       "      <th>2</th>\n",
       "      <td>41467</td>\n",
       "      <td>[Bleach: Thousand-Year Blood War Arc]</td>\n",
       "      <td>Bleach: Thousand-Year Blood War</td>\n",
       "      <td>BLEACH 千年血戦篇</td>\n",
       "      <td>Substitute Soul Reaper Ichigo Kurosaki spends ...</td>\n",
       "      <td>white</td>\n",
       "      <td>tv</td>\n",
       "      <td>Action    Adventure    Fantasy    Shounen</td>\n",
       "      <td>manga</td>\n",
       "      <td>Pierrot</td>\n",
       "    </tr>\n",
       "  </tbody>\n",
       "</table>\n",
       "</div>"
      ],
      "text/plain": [
       "      id                                 alternative_titles  \\\n",
       "0  51535  [Shingeki no Kyojin: The Final Season Part 3, ...   \n",
       "1   5114  [Hagane no Renkinjutsushi: Fullmetal Alchemist...   \n",
       "2  41467              [Bleach: Thousand-Year Blood War Arc]   \n",
       "\n",
       "                                       english_title  \\\n",
       "0  Attack on Titan: Final Season - The Final Chap...   \n",
       "1                   Fullmetal Alchemist: Brotherhood   \n",
       "2                    Bleach: Thousand-Year Blood War   \n",
       "\n",
       "               japanese_title  \\\n",
       "0   進撃の巨人 The Final Season完結編   \n",
       "1  鋼の錬金術師 FULLMETAL ALCHEMIST   \n",
       "2                BLEACH 千年血戦篇   \n",
       "\n",
       "                                            synopsis   nsfw media_type  \\\n",
       "0              The conclusion to Shingeki no Kyojin.  white    special   \n",
       "1  After a horrific alchemy experiment goes wrong...  white         tv   \n",
       "2  Substitute Soul Reaper Ichigo Kurosaki spends ...  white         tv   \n",
       "\n",
       "                                              genres source     studios  \n",
       "0     Action    Drama    Gore    Military    Shou...  manga       MAPPA  \n",
       "1     Action    Adventure    Drama    Fantasy    ...  manga       Bones  \n",
       "2          Action    Adventure    Fantasy    Shounen  manga     Pierrot  "
      ]
     },
     "execution_count": 30,
     "metadata": {},
     "output_type": "execute_result"
    }
   ],
   "source": [
    "# reorder columns\n",
    "anime_details_df = anime_details_df[['id', 'alternative_titles', 'english_title', 'japanese_title', 'synopsis', 'nsfw',\n",
    "                                     'media_type', 'genres', 'source', 'studios']]\n",
    "\n",
    "anime_details_df.head(3)"
   ]
  },
  {
   "cell_type": "markdown",
   "id": "3ea1d091-411d-49e9-89dd-131bc65622ac",
   "metadata": {
    "tags": []
   },
   "source": [
    "## Merging"
   ]
  },
  {
   "cell_type": "code",
   "execution_count": 37,
   "id": "bb2b6dc9-81ff-433a-bd5e-8efc2329415b",
   "metadata": {},
   "outputs": [
    {
     "data": {
      "text/html": [
       "<div>\n",
       "<style scoped>\n",
       "    .dataframe tbody tr th:only-of-type {\n",
       "        vertical-align: middle;\n",
       "    }\n",
       "\n",
       "    .dataframe tbody tr th {\n",
       "        vertical-align: top;\n",
       "    }\n",
       "\n",
       "    .dataframe thead th {\n",
       "        text-align: right;\n",
       "    }\n",
       "</style>\n",
       "<table border=\"1\" class=\"dataframe\">\n",
       "  <thead>\n",
       "    <tr style=\"text-align: right;\">\n",
       "      <th></th>\n",
       "      <th>id</th>\n",
       "      <th>title</th>\n",
       "      <th>picture_url</th>\n",
       "      <th>alternative_titles</th>\n",
       "      <th>english_title</th>\n",
       "      <th>japanese_title</th>\n",
       "      <th>synopsis</th>\n",
       "      <th>nsfw</th>\n",
       "      <th>media_type</th>\n",
       "      <th>genres</th>\n",
       "      <th>source</th>\n",
       "      <th>studios</th>\n",
       "    </tr>\n",
       "  </thead>\n",
       "  <tbody>\n",
       "    <tr>\n",
       "      <th>0</th>\n",
       "      <td>51535</td>\n",
       "      <td>Shingeki no Kyojin: The Final Season - Kankets...</td>\n",
       "      <td>https://api-cdn.myanimelist.net/images/anime/1...</td>\n",
       "      <td>[Shingeki no Kyojin: The Final Season Part 3, ...</td>\n",
       "      <td>Attack on Titan: Final Season - The Final Chap...</td>\n",
       "      <td>進撃の巨人 The Final Season完結編</td>\n",
       "      <td>The conclusion to Shingeki no Kyojin.</td>\n",
       "      <td>white</td>\n",
       "      <td>special</td>\n",
       "      <td>Action    Drama    Gore    Military    Shou...</td>\n",
       "      <td>manga</td>\n",
       "      <td>MAPPA</td>\n",
       "    </tr>\n",
       "    <tr>\n",
       "      <th>1</th>\n",
       "      <td>5114</td>\n",
       "      <td>Fullmetal Alchemist: Brotherhood</td>\n",
       "      <td>https://api-cdn.myanimelist.net/images/anime/1...</td>\n",
       "      <td>[Hagane no Renkinjutsushi: Fullmetal Alchemist...</td>\n",
       "      <td>Fullmetal Alchemist: Brotherhood</td>\n",
       "      <td>鋼の錬金術師 FULLMETAL ALCHEMIST</td>\n",
       "      <td>After a horrific alchemy experiment goes wrong...</td>\n",
       "      <td>white</td>\n",
       "      <td>tv</td>\n",
       "      <td>Action    Adventure    Drama    Fantasy    ...</td>\n",
       "      <td>manga</td>\n",
       "      <td>Bones</td>\n",
       "    </tr>\n",
       "    <tr>\n",
       "      <th>2</th>\n",
       "      <td>41467</td>\n",
       "      <td>Bleach: Sennen Kessen-hen</td>\n",
       "      <td>https://api-cdn.myanimelist.net/images/anime/1...</td>\n",
       "      <td>[Bleach: Thousand-Year Blood War Arc]</td>\n",
       "      <td>Bleach: Thousand-Year Blood War</td>\n",
       "      <td>BLEACH 千年血戦篇</td>\n",
       "      <td>Substitute Soul Reaper Ichigo Kurosaki spends ...</td>\n",
       "      <td>white</td>\n",
       "      <td>tv</td>\n",
       "      <td>Action    Adventure    Fantasy    Shounen</td>\n",
       "      <td>manga</td>\n",
       "      <td>Pierrot</td>\n",
       "    </tr>\n",
       "  </tbody>\n",
       "</table>\n",
       "</div>"
      ],
      "text/plain": [
       "      id                                              title  \\\n",
       "0  51535  Shingeki no Kyojin: The Final Season - Kankets...   \n",
       "1   5114                   Fullmetal Alchemist: Brotherhood   \n",
       "2  41467                          Bleach: Sennen Kessen-hen   \n",
       "\n",
       "                                         picture_url  \\\n",
       "0  https://api-cdn.myanimelist.net/images/anime/1...   \n",
       "1  https://api-cdn.myanimelist.net/images/anime/1...   \n",
       "2  https://api-cdn.myanimelist.net/images/anime/1...   \n",
       "\n",
       "                                  alternative_titles  \\\n",
       "0  [Shingeki no Kyojin: The Final Season Part 3, ...   \n",
       "1  [Hagane no Renkinjutsushi: Fullmetal Alchemist...   \n",
       "2              [Bleach: Thousand-Year Blood War Arc]   \n",
       "\n",
       "                                       english_title  \\\n",
       "0  Attack on Titan: Final Season - The Final Chap...   \n",
       "1                   Fullmetal Alchemist: Brotherhood   \n",
       "2                    Bleach: Thousand-Year Blood War   \n",
       "\n",
       "               japanese_title  \\\n",
       "0   進撃の巨人 The Final Season完結編   \n",
       "1  鋼の錬金術師 FULLMETAL ALCHEMIST   \n",
       "2                BLEACH 千年血戦篇   \n",
       "\n",
       "                                            synopsis   nsfw media_type  \\\n",
       "0              The conclusion to Shingeki no Kyojin.  white    special   \n",
       "1  After a horrific alchemy experiment goes wrong...  white         tv   \n",
       "2  Substitute Soul Reaper Ichigo Kurosaki spends ...  white         tv   \n",
       "\n",
       "                                              genres source     studios  \n",
       "0     Action    Drama    Gore    Military    Shou...  manga       MAPPA  \n",
       "1     Action    Adventure    Drama    Fantasy    ...  manga       Bones  \n",
       "2          Action    Adventure    Fantasy    Shounen  manga     Pierrot  "
      ]
     },
     "execution_count": 37,
     "metadata": {},
     "output_type": "execute_result"
    }
   ],
   "source": [
    "df = anime_df.merge(anime_details_df, on='id', how='inner')\n",
    "df.head(3)"
   ]
  },
  {
   "cell_type": "markdown",
   "id": "cf1eb333-04a7-46fa-b9ca-33088b0d3c20",
   "metadata": {},
   "source": [
    "# EDA on the merged dataframe"
   ]
  },
  {
   "cell_type": "code",
   "execution_count": 36,
   "id": "750ff4ca-30ad-4672-96f1-b0e3f4e6907e",
   "metadata": {},
   "outputs": [
    {
     "data": {
      "text/plain": [
       "(10000, 12)"
      ]
     },
     "execution_count": 36,
     "metadata": {},
     "output_type": "execute_result"
    }
   ],
   "source": [
    "df.shape"
   ]
  },
  {
   "cell_type": "code",
   "execution_count": 52,
   "id": "bfe5a7a6-ab96-407e-85c3-13bd132ec2b5",
   "metadata": {},
   "outputs": [
    {
     "data": {
      "text/plain": [
       "False    10000\n",
       "Name: id, dtype: int64"
      ]
     },
     "execution_count": 52,
     "metadata": {},
     "output_type": "execute_result"
    }
   ],
   "source": [
    "# check duplicated rows\n",
    "df['id'].duplicated().value_counts()"
   ]
  },
  {
   "cell_type": "code",
   "execution_count": 53,
   "id": "f144d4d8-ca3e-400e-a5ee-026d10b0d9cb",
   "metadata": {},
   "outputs": [
    {
     "data": {
      "text/plain": [
       "id                      0\n",
       "title                   0\n",
       "picture_url             0\n",
       "alternative_titles      0\n",
       "english_title           0\n",
       "japanese_title          0\n",
       "synopsis              180\n",
       "nsfw                    0\n",
       "media_type              0\n",
       "genres                  0\n",
       "source                974\n",
       "studios                 0\n",
       "dtype: int64"
      ]
     },
     "execution_count": 53,
     "metadata": {},
     "output_type": "execute_result"
    }
   ],
   "source": [
    "# check missing values\n",
    "df.isnull().sum()"
   ]
  },
  {
   "cell_type": "code",
   "execution_count": 59,
   "id": "18ba7efd-7027-4812-82ab-1e999fc0289a",
   "metadata": {
    "tags": []
   },
   "outputs": [
    {
     "data": {
      "text/plain": [
       "id                      0\n",
       "title                   0\n",
       "picture_url             0\n",
       "alternative_titles      0\n",
       "english_title           0\n",
       "japanese_title          0\n",
       "synopsis                0\n",
       "nsfw                    0\n",
       "media_type              0\n",
       "genres                  0\n",
       "source                950\n",
       "studios                 0\n",
       "dtype: int64"
      ]
     },
     "execution_count": 59,
     "metadata": {},
     "output_type": "execute_result"
    }
   ],
   "source": [
    "# Dropping rows where the synopsis/plot is null because it's an important feature for content-based-filtering\n",
    "df.dropna(subset=['synopsis'], inplace=True)\n",
    "df.isnull().sum()"
   ]
  },
  {
   "cell_type": "code",
   "execution_count": 60,
   "id": "a1c65f5d-47c1-4e98-8b96-ec2e363880a9",
   "metadata": {
    "tags": []
   },
   "outputs": [
    {
     "data": {
      "text/plain": [
       "(9820, 12)"
      ]
     },
     "execution_count": 60,
     "metadata": {},
     "output_type": "execute_result"
    }
   ],
   "source": [
    "df.shape"
   ]
  },
  {
   "cell_type": "code",
   "execution_count": 63,
   "id": "9cae5a0e-20e3-414d-b1e5-13b4642fa776",
   "metadata": {
    "tags": []
   },
   "outputs": [
    {
     "name": "stdout",
     "output_type": "stream",
     "text": [
      "<class 'pandas.core.frame.DataFrame'>\n",
      "Int64Index: 9820 entries, 0 to 9999\n",
      "Data columns (total 12 columns):\n",
      " #   Column              Non-Null Count  Dtype \n",
      "---  ------              --------------  ----- \n",
      " 0   id                  9820 non-null   int64 \n",
      " 1   title               9820 non-null   object\n",
      " 2   picture_url         9820 non-null   object\n",
      " 3   alternative_titles  9820 non-null   object\n",
      " 4   english_title       9820 non-null   object\n",
      " 5   japanese_title      9820 non-null   object\n",
      " 6   synopsis            9820 non-null   object\n",
      " 7   nsfw                9820 non-null   object\n",
      " 8   media_type          9820 non-null   object\n",
      " 9   genres              9820 non-null   object\n",
      " 10  source              8870 non-null   object\n",
      " 11  studios             9820 non-null   object\n",
      "dtypes: int64(1), object(11)\n",
      "memory usage: 997.3+ KB\n"
     ]
    }
   ],
   "source": [
    "df.info()"
   ]
  },
  {
   "cell_type": "markdown",
   "id": "44978bb5-a97c-4f49-9fd7-927695fa402e",
   "metadata": {},
   "source": [
    "# Text preprocessing"
   ]
  },
  {
   "cell_type": "code",
   "execution_count": null,
   "id": "dd49f029-302c-4980-b738-2be56ae687df",
   "metadata": {},
   "outputs": [],
   "source": []
  },
  {
   "cell_type": "code",
   "execution_count": null,
   "id": "852f7daa-1d78-42d8-8459-c90c9658a5c4",
   "metadata": {},
   "outputs": [],
   "source": []
  },
  {
   "cell_type": "code",
   "execution_count": null,
   "id": "b6e932b9-3149-452a-bea7-625b928f9268",
   "metadata": {},
   "outputs": [],
   "source": []
  },
  {
   "cell_type": "code",
   "execution_count": null,
   "id": "90711725-3e8d-45e9-bf2b-92c15adf383c",
   "metadata": {},
   "outputs": [],
   "source": []
  },
  {
   "cell_type": "code",
   "execution_count": null,
   "id": "a4f65807-35a0-4f0f-adea-7cee00d38111",
   "metadata": {},
   "outputs": [],
   "source": []
  }
 ],
 "metadata": {
  "kernelspec": {
   "display_name": "anime-recommendation",
   "language": "python",
   "name": "anime-recommendation"
  },
  "language_info": {
   "codemirror_mode": {
    "name": "ipython",
    "version": 3
   },
   "file_extension": ".py",
   "mimetype": "text/x-python",
   "name": "python",
   "nbconvert_exporter": "python",
   "pygments_lexer": "ipython3",
   "version": "3.11.2"
  },
  "toc-autonumbering": false,
  "toc-showcode": false,
  "toc-showmarkdowntxt": true
 },
 "nbformat": 4,
 "nbformat_minor": 5
}
